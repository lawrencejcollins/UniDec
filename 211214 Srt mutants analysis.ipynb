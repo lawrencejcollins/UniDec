{
 "cells": [
  {
   "cell_type": "code",
   "execution_count": null,
   "metadata": {},
   "outputs": [],
   "source": [
    "from unidec_modules.v3_SeqChrom import *"
   ]
  },
  {
   "cell_type": "code",
   "execution_count": null,
   "metadata": {},
   "outputs": [],
   "source": [
    "eng = SeqChrom()"
   ]
  },
  {
   "cell_type": "markdown",
   "metadata": {},
   "source": [
    "Added in option to load multipe mzml files into engine before metaunidec processing."
   ]
  },
  {
   "cell_type": "code",
   "execution_count": null,
   "metadata": {},
   "outputs": [],
   "source": [
    "spectra = \"D:/211214 mass spec/processed/211214 Srt mutants ctb 2hrs _33_BA4_01_81551.d.mzML\"\n",
    "\n",
    "plate_map = \"C:/Users/cm19ljc/Documents/GitHub/UniDec/reaction maps/211214 Srt mutant CTB labelling 2 hours.xlsx\""
   ]
  },
  {
   "cell_type": "code",
   "execution_count": null,
   "metadata": {},
   "outputs": [],
   "source": [
    "eng.load_mzml(spectra, clear_hdf5=True)"
   ]
  },
  {
   "cell_type": "code",
   "execution_count": null,
   "metadata": {},
   "outputs": [],
   "source": [
    "eng.config.chrom_peak_width = 0.6\n",
    "eng.get_chrom_peaks(lb = 1, ub = 5.5) \n",
    "eng.add_chrom_peaks2() \n",
    "eng.plot_tic(peak_windows = True)"
   ]
  },
  {
   "cell_type": "markdown",
   "metadata": {},
   "source": [
    "n.b. lowering the peakthresh may result in noise being recognised as a peak and thereby generating false data.\n",
    ">start high e.g. 0.1 and lower as appropriate "
   ]
  },
  {
   "cell_type": "code",
   "execution_count": null,
   "metadata": {},
   "outputs": [],
   "source": [
    "eng.update_config(masslb = 10000, massub = 20000, peakthresh = 0.01, datanorm = 0, \n",
    "                 beta = 0, peaknorm = 0, exnorm = 0, numit=100, numz=50,\n",
    "                 endz=100, startz=10,zzsig=1.0, psig=0,mzsig=1.0,psfun=0,msig=0.0,molig=0.0,\n",
    "                 massbins=0.1,mtabsig=0.0, subbuff=0.0, subtype=2, mzbins=0.0, \n",
    "                 peakwindow=10.0, smooth = 0)\n",
    "eng.process_data()\n",
    "eng.run_unidec()\n",
    "eng.pick_peaks()\n",
    "eng.integrate_all()"
   ]
  },
  {
   "cell_type": "code",
   "execution_count": null,
   "metadata": {
    "scrolled": true
   },
   "outputs": [],
   "source": [
    "# eng.plot_all(dtype = 'data2', combine = False, cmap = 'viridis')"
   ]
  },
  {
   "cell_type": "code",
   "execution_count": null,
   "metadata": {},
   "outputs": [],
   "source": [
    "eng.plot_all(dtype = 'massdat', combine = False, cmap = 'viridis', xlim = [10000, 20000])"
   ]
  },
  {
   "cell_type": "code",
   "execution_count": null,
   "metadata": {},
   "outputs": [],
   "source": [
    "eng.upload_map(plate_map)"
   ]
  },
  {
   "cell_type": "code",
   "execution_count": null,
   "metadata": {},
   "outputs": [],
   "source": [
    "eng.pmap"
   ]
  },
  {
   "cell_type": "code",
   "execution_count": null,
   "metadata": {},
   "outputs": [],
   "source": [
    "eng.speciesmap"
   ]
  },
  {
   "cell_type": "code",
   "execution_count": null,
   "metadata": {},
   "outputs": [],
   "source": [
    "eng.process_maps(groupby = 'Reaction', variable = 'Sortase')"
   ]
  },
  {
   "cell_type": "code",
   "execution_count": null,
   "metadata": {},
   "outputs": [],
   "source": [
    "eng.pmap2"
   ]
  },
  {
   "cell_type": "markdown",
   "metadata": {},
   "source": [
    "invalidate data using eng.invalidate()"
   ]
  },
  {
   "cell_type": "code",
   "execution_count": null,
   "metadata": {},
   "outputs": [],
   "source": [
    "eng.peak_match(silent = True)\n",
    "eng.normalise_peaks(silent = True)\n",
    "\n",
    "eng.plot_data(plot_type='bar', groupby='Sortase')"
   ]
  }
 ],
 "metadata": {
  "kernelspec": {
   "display_name": "Python 3",
   "language": "python",
   "name": "python3"
  }
 },
 "nbformat": 4,
 "nbformat_minor": 4
}
