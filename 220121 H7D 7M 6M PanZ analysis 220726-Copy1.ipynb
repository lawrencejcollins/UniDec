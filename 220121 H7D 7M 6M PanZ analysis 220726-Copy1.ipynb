{
 "cells": [
  {
   "cell_type": "code",
   "execution_count": 1,
   "metadata": {},
   "outputs": [],
   "source": [
    "from unidec_modules.v3_SeqChrom import *"
   ]
  },
  {
   "cell_type": "code",
   "execution_count": 2,
   "metadata": {},
   "outputs": [
    {
     "name": "stdout",
     "output_type": "stream",
     "text": [
      "\n",
      "UniDec Engine v.5.0.1\n",
      "\n",
      "UniDec Path: C:\\Users\\cm19ljc\\Documents\\GitHub\\UniDec\\unidec_bin\\UniDec.exe\n",
      "\n",
      "UniDec Engine v.5.0.1\n",
      "\n",
      "UniDec Path: C:\\Users\\cm19ljc\\Documents\\GitHub\\UniDec\\unidec_bin\\UniDec.exe\n"
     ]
    }
   ],
   "source": [
    "eng = SeqChrom()"
   ]
  },
  {
   "cell_type": "code",
   "execution_count": 3,
   "metadata": {},
   "outputs": [],
   "source": [
    "# help(SeqChrom)"
   ]
  },
  {
   "cell_type": "code",
   "execution_count": 4,
   "metadata": {},
   "outputs": [],
   "source": [
    "# spectra = folder +\"220721 A_340682.mzML\"\n",
    "# spectra = folder +\"220107 B _340681.mzML\"\n",
    "# spectra = folder +\"220721 C_340683.mzML\"\n",
    "# spectra = folder +\"220120 PanZ 6M B r2_341369.mzML\"\n",
    "# spectra = folder +\"220121 PanZ 6M B_341584.mzML\"\n",
    "# spectra = folder +\"220120 PanZ 6M A r2_341424.mzML\" # 1 dud time point (30)\n",
    "# spectra = folder +\"220127 PanZ labelling B_342038.mzML\""
   ]
  },
  {
   "cell_type": "markdown",
   "metadata": {},
   "source": [
    "Added in option to load multipe mzml files into engine before metaunidec processing."
   ]
  },
  {
   "cell_type": "code",
   "execution_count": 5,
   "metadata": {},
   "outputs": [],
   "source": [
    "folder = \"C:\\\\Users\\\\cm19ljc\\\\OneDrive - University of Leeds\\\\220712 usb\\\\220711 mzml\\\\\"\n",
    "\n",
    "spectra = folder +\"220721 C_340683.mzML\"\n",
    "\n",
    "plate_map = \"C:/Users/cm19ljc/Documents/GitHub/UniDec/reaction maps/PanZ sortase time course 1.5 eq gvseyg.xlsx\""
   ]
  },
  {
   "cell_type": "code",
   "execution_count": 6,
   "metadata": {},
   "outputs": [
    {
     "name": "stdout",
     "output_type": "stream",
     "text": [
      "Reading mzML: C:\\Users\\cm19ljc\\OneDrive - University of Leeds\\220712 usb\\220711 mzml\\220721 C_340683.mzML\n",
      "[Warning] Not index found and build_index_from_scratch is False\n",
      "Converted to gzip file to improve speed: C:\\Users\\cm19ljc\\OneDrive - University of Leeds\\220712 usb\\220711 mzml\\220721 C_340683.mzML.gz\n",
      "Error getting TIC in mzML; trying to make it...\n",
      "Imported Data. Constructing TIC\n",
      "Done\n"
     ]
    },
    {
     "name": "stderr",
     "output_type": "stream",
     "text": [
      "C:\\Users\\cm19ljc\\Documents\\GitHub\\UniDec\\unidec_modules\\mzMLimporter.py:311: VisibleDeprecationWarning: Creating an ndarray from ragged nested sequences (which is a list-or-tuple of lists-or-tuples-or ndarrays with different lengths or shapes) is deprecated. If you meant to do this, you must specify 'dtype=object' when creating the ndarray\n",
      "  self.data = np.array(self.data)\n"
     ]
    },
    {
     "data": {
      "text/plain": [
       "False"
      ]
     },
     "execution_count": 6,
     "metadata": {},
     "output_type": "execute_result"
    }
   ],
   "source": [
    "eng.load_mzml(spectra, clear_hdf5=True)"
   ]
  },
  {
   "cell_type": "code",
   "execution_count": 7,
   "metadata": {},
   "outputs": [
    {
     "name": "stdout",
     "output_type": "stream",
     "text": [
      "1308 2\n",
      "Noise Level: 0.05421592980501297 Window: 0.6\n",
      "Bad Peak [0.419317   0.85315743] 0.23771599999999998 [0.419317, 0.657033]\n",
      "1.14337 0.34495999999999993\n",
      "2.01622 0.16625999999999985\n",
      "2.9349 0.16211999999999982\n",
      "3.89103 0.17041999999999957\n",
      "4.93447 0.23278\n",
      "Getting scans: [110, 193]\n",
      "Length merge axis: 38528\n",
      "Getting scans: [330, 370]\n",
      "Length merge axis: 37959\n",
      "Getting scans: [554, 593]\n",
      "Length merge axis: 37652\n",
      "Getting scans: [780, 821]\n",
      "Length merge axis: 37992\n",
      "Getting scans: [1019, 1075]\n",
      "Length merge axis: 37698\n"
     ]
    },
    {
     "data": {
      "image/png": "[encoded data removed]",
      "text/plain": [
       "<Figure size 432x288 with 1 Axes>"
      ]
     },
     "metadata": {
      "needs_background": "light"
     },
     "output_type": "display_data"
    }
   ],
   "source": [
    "eng.config.chrom_peak_width = 0.6\n",
    "eng.get_chrom_peaks(lb = 1, ub = 5.5) \n",
    "eng.add_chrom_peaks2() \n",
    "eng.plot_tic(peak_windows = True)"
   ]
  },
  {
   "cell_type": "markdown",
   "metadata": {},
   "source": [
    "n.b. lowering the peakthresh may result in noise being recognised as a peak and thereby generating false data.\n",
    ">start high e.g. 0.1 and lower as appropriate "
   ]
  },
  {
   "cell_type": "code",
   "execution_count": 8,
   "metadata": {},
   "outputs": [
    {
     "name": "stdout",
     "output_type": "stream",
     "text": [
      "Help on method update_config in module unidec_modules.v3_SeqChrom:\n",
      "\n",
      "update_config(minmz='', maxmz='', massub=10000, masslb=100000, peakthresh=0.01, subtype=2, subbuff=100, datanorm=0, numit=100, massbins=1, mzsig=0, startz=10, endz=100, zzsig=1, psig=1, beta=0, psfun=0, peaknorm=0, peakwindow=10, exnorm=0, numz=50, mtabsig=0.0, molig=0.0, mzbins=0.0, msig=0.0, smooth=0, reductionpercent=0.0, aggressive=0, rawflag=0, nativezub=1000.0, nativezlb=-1000.0, poolflag=2, noiseflag=0, linflag=2, isotopemode=0, baselineflag=1, orbimode=0, peakplotthresh=0.1, adductmass=1.007276467, intthresh=0) method of unidec_modules.v3_SeqChrom.SeqChrom instance\n",
      "    [summary]\n",
      "    \n",
      "    Args:\n",
      "        minmz (str, optional): [description]. Defaults to \"\".\n",
      "        maxmz (str, optional): [description]. Defaults to \"\".\n",
      "        massub (int, optional): [description]. Defaults to 10000.\n",
      "        masslb (int, optional): [description]. Defaults to 100000.\n",
      "        peakthresh (float, optional): [description]. Defaults to 0.01.\n",
      "        subtype (int, optional): [background subtraction]. Defaults to 2.\n",
      "        subbuff (int, optional): [background subtraction amount (subtract curved) 0 = 0ff,\n",
      "        100 = good amount when on]. Defaults to 100.\n",
      "        datanorm (int, optional): [data normalisation]. Defaults to 0.\n",
      "        numit (int, optional): [number of iterations]. Defaults to 100.\n",
      "        massbins (int, optional): [description]. Defaults to 1.\n",
      "        mzsig (int, optional): [description]. Defaults to 0.\n",
      "        startz (int, optional): [description]. Defaults to 10.\n",
      "        endz (int, optional): [description]. Defaults to 100.\n",
      "        zzsig (int, optional): [charge smooth width (smooth charge state distributions)]. Defaults to 1.\n",
      "        psig (int, optional): [smooth nearby points (point smooth width, some = 1)]. Defaults to 0.\n",
      "        beta (int, optional): [suppress artifacts (beta, some = 50)]. Defaults to 50.\n",
      "        psfun (int, optional): [Peak shape function (gaussian, lorentzian, split G/L)]. Defaults to 0.\n",
      "        peaknorm (int, optional): [description]. Defaults to 0.\n",
      "        peakwindow (int, optional): [description]. Defaults to 10.\n",
      "        exnorm (int, optional): [description]. Defaults to 0.\n",
      "\n"
     ]
    }
   ],
   "source": [
    "help(eng.update_config)"
   ]
  },
  {
   "cell_type": "code",
   "execution_count": 9,
   "metadata": {},
   "outputs": [
    {
     "name": "stdout",
     "output_type": "stream",
     "text": [
      "Failed Automatic Peak Width: list indices must be integers or slices, not tuple\n",
      "[]\n",
      "Execution Time: 0.36504850000000033\n",
      "Execution Time: 12.6638267\n",
      "Execution Time: 0.35612139999999926\n",
      "Peak info saved to: C:\\Users\\cm19ljc\\OneDrive - University of Leeds\\220712 usb\\220711 mzml\\UniDec_Figures_and_Files\\220721 C_340683_extracts.txt\n"
     ]
    }
   ],
   "source": [
    "eng.update_config(masslb = 10000, massub = 20000, peakthresh = 0.05, minmz=\"\")\n",
    "eng.process_data()\n",
    "eng.run_unidec()\n",
    "eng.pick_peaks()\n",
    "eng.integrate_all()"
   ]
  },
  {
   "cell_type": "code",
   "execution_count": 10,
   "metadata": {
    "scrolled": false
   },
   "outputs": [
    {
     "data": {
      "image/png": "[encoded data removed]",
      "text/plain": [
       "<Figure size 600x400 with 1 Axes>"
      ]
     },
     "metadata": {
      "needs_background": "light"
     },
     "output_type": "display_data"
    }
   ],
   "source": [
    "eng.plot_all(dtype = 'data2', combine = True, cmap = 'brg')"
   ]
  },
  {
   "cell_type": "code",
   "execution_count": 24,
   "metadata": {},
   "outputs": [
    {
     "name": "stdout",
     "output_type": "stream",
     "text": [
      "15297.0\n",
      "15460.0\n",
      "15623.0\n",
      "15659.0\n",
      "15681.0\n",
      "15738.0\n",
      "16224.0\n",
      "16260.0\n",
      "16338.0\n",
      "17303.0\n",
      "17534.0\n",
      "17662.0\n",
      "17735.0\n",
      "17792.0\n",
      "17888.0\n",
      "18058.0\n",
      "18318.0\n",
      "18340.0\n",
      "18461.0\n",
      "18500.0\n",
      "18595.0\n",
      "18622.0\n",
      "18643.0\n",
      "18693.0\n",
      "18748.0\n",
      "18814.0\n",
      "18835.0\n",
      "18868.0\n",
      "18895.0\n",
      "18951.0\n",
      "18970.0\n",
      "19032.0\n",
      "19061.0\n",
      "19095.0\n",
      "19137.0\n",
      "19174.0\n",
      "19236.0\n",
      "19305.0\n",
      "19326.0\n",
      "19370.0\n",
      "19402.0\n",
      "19469.0\n",
      "19531.0\n",
      "19557.0\n",
      "19605.0\n",
      "19673.0\n",
      "19731.0\n",
      "19789.0\n",
      "19831.0\n",
      "19883.0\n"
     ]
    }
   ],
   "source": [
    "for p in eng.pks.peaks:\n",
    "    print(p.mass)"
   ]
  },
  {
   "cell_type": "code",
   "execution_count": 11,
   "metadata": {
    "scrolled": false
   },
   "outputs": [
    {
     "name": "stderr",
     "output_type": "stream",
     "text": [
      "No handles with labels found to put in legend.\n",
      "No handles with labels found to put in legend.\n",
      "No handles with labels found to put in legend.\n",
      "No handles with labels found to put in legend.\n",
      "No handles with labels found to put in legend.\n"
     ]
    },
    {
     "data": {
      "image/png": "[encoded data removed]",
      "text/plain": [
       "<Figure size 432x288 with 1 Axes>"
      ]
     },
     "metadata": {
      "needs_background": "light"
     },
     "output_type": "display_data"
    },
    {
     "data": {
      "image/png": "[encoded data removed]",
      "text/plain": [
       "<Figure size 432x288 with 1 Axes>"
      ]
     },
     "metadata": {
      "needs_background": "light"
     },
     "output_type": "display_data"
    },
    {
     "data": {
      "image/png": "[encoded data removed]",
      "text/plain": [
       "<Figure size 432x288 with 1 Axes>"
      ]
     },
     "metadata": {
      "needs_background": "light"
     },
     "output_type": "display_data"
    },
    {
     "data": {
      "image/png": "[encoded data removed]",
      "text/plain": [
       "<Figure size 432x288 with 1 Axes>"
      ]
     },
     "metadata": {
      "needs_background": "light"
     },
     "output_type": "display_data"
    },
    {
     "data": {
      "image/png": "[encoded data removed]",
      "text/plain": [
       "<Figure size 432x288 with 1 Axes>"
      ]
     },
     "metadata": {
      "needs_background": "light"
     },
     "output_type": "display_data"
    }
   ],
   "source": [
    "eng.plot_all(dtype = 'massdat', combine = False, cmap = 'brg', xlim = [14000, 17000])"
   ]
  },
  {
   "cell_type": "code",
   "execution_count": 12,
   "metadata": {},
   "outputs": [
    {
     "data": {
      "text/plain": [
       "(  Reaction      Species  Concentration Units     Mass Reagent_Type Sequence\n",
       " 0     PanZ         PanZ          100.0    uM  16223.0      Protein      NaN\n",
       " 1     PanZ  PanZ-GVSEYG            NaN    uM  15623.0      Protein      NaN\n",
       " 2     PanZ      PanZ-OH            NaN    uM  15029.0      Protein      NaN\n",
       " 3     PanZ   PanZ-GVSEG            NaN   NaN  15459.0      Protein      NaN,\n",
       "             Type Reaction Time  Species  Valid\n",
       " Well ID                                       \n",
       " 1        Protein     PanZ   30      NaN   True\n",
       " 2        Protein     PanZ   60      NaN   True\n",
       " 3        Protein     PanZ   90      NaN   True\n",
       " 4        Protein     PanZ  120      NaN   True\n",
       " 5        Protein     PanZ  180      NaN   True)"
      ]
     },
     "execution_count": 12,
     "metadata": {},
     "output_type": "execute_result"
    }
   ],
   "source": [
    "eng.upload_map(plate_map)"
   ]
  },
  {
   "cell_type": "code",
   "execution_count": 13,
   "metadata": {},
   "outputs": [
    {
     "data": {
      "text/html": [
       "<div>\n",
       "<style scoped>\n",
       "    .dataframe tbody tr th:only-of-type {\n",
       "        vertical-align: middle;\n",
       "    }\n",
       "\n",
       "    .dataframe tbody tr th {\n",
       "        vertical-align: top;\n",
       "    }\n",
       "\n",
       "    .dataframe thead th {\n",
       "        text-align: right;\n",
       "    }\n",
       "</style>\n",
       "<table border=\"1\" class=\"dataframe\">\n",
       "  <thead>\n",
       "    <tr style=\"text-align: right;\">\n",
       "      <th></th>\n",
       "      <th>Type</th>\n",
       "      <th>Reaction</th>\n",
       "      <th>Time</th>\n",
       "      <th>Species</th>\n",
       "      <th>Valid</th>\n",
       "    </tr>\n",
       "    <tr>\n",
       "      <th>Well ID</th>\n",
       "      <th></th>\n",
       "      <th></th>\n",
       "      <th></th>\n",
       "      <th></th>\n",
       "      <th></th>\n",
       "    </tr>\n",
       "  </thead>\n",
       "  <tbody>\n",
       "    <tr>\n",
       "      <th>1</th>\n",
       "      <td>Protein</td>\n",
       "      <td>PanZ</td>\n",
       "      <td>30</td>\n",
       "      <td>NaN</td>\n",
       "      <td>True</td>\n",
       "    </tr>\n",
       "    <tr>\n",
       "      <th>2</th>\n",
       "      <td>Protein</td>\n",
       "      <td>PanZ</td>\n",
       "      <td>60</td>\n",
       "      <td>NaN</td>\n",
       "      <td>True</td>\n",
       "    </tr>\n",
       "    <tr>\n",
       "      <th>3</th>\n",
       "      <td>Protein</td>\n",
       "      <td>PanZ</td>\n",
       "      <td>90</td>\n",
       "      <td>NaN</td>\n",
       "      <td>True</td>\n",
       "    </tr>\n",
       "    <tr>\n",
       "      <th>4</th>\n",
       "      <td>Protein</td>\n",
       "      <td>PanZ</td>\n",
       "      <td>120</td>\n",
       "      <td>NaN</td>\n",
       "      <td>True</td>\n",
       "    </tr>\n",
       "    <tr>\n",
       "      <th>5</th>\n",
       "      <td>Protein</td>\n",
       "      <td>PanZ</td>\n",
       "      <td>180</td>\n",
       "      <td>NaN</td>\n",
       "      <td>True</td>\n",
       "    </tr>\n",
       "  </tbody>\n",
       "</table>\n",
       "</div>"
      ],
      "text/plain": [
       "            Type Reaction Time  Species  Valid\n",
       "Well ID                                       \n",
       "1        Protein     PanZ   30      NaN   True\n",
       "2        Protein     PanZ   60      NaN   True\n",
       "3        Protein     PanZ   90      NaN   True\n",
       "4        Protein     PanZ  120      NaN   True\n",
       "5        Protein     PanZ  180      NaN   True"
      ]
     },
     "execution_count": 13,
     "metadata": {},
     "output_type": "execute_result"
    }
   ],
   "source": [
    "eng.pmap"
   ]
  },
  {
   "cell_type": "code",
   "execution_count": 14,
   "metadata": {},
   "outputs": [
    {
     "data": {
      "text/html": [
       "<div>\n",
       "<style scoped>\n",
       "    .dataframe tbody tr th:only-of-type {\n",
       "        vertical-align: middle;\n",
       "    }\n",
       "\n",
       "    .dataframe tbody tr th {\n",
       "        vertical-align: top;\n",
       "    }\n",
       "\n",
       "    .dataframe thead th {\n",
       "        text-align: right;\n",
       "    }\n",
       "</style>\n",
       "<table border=\"1\" class=\"dataframe\">\n",
       "  <thead>\n",
       "    <tr style=\"text-align: right;\">\n",
       "      <th></th>\n",
       "      <th>Reaction</th>\n",
       "      <th>Species</th>\n",
       "      <th>Concentration</th>\n",
       "      <th>Units</th>\n",
       "      <th>Mass</th>\n",
       "      <th>Reagent_Type</th>\n",
       "      <th>Sequence</th>\n",
       "    </tr>\n",
       "  </thead>\n",
       "  <tbody>\n",
       "    <tr>\n",
       "      <th>0</th>\n",
       "      <td>PanZ</td>\n",
       "      <td>PanZ</td>\n",
       "      <td>100.0</td>\n",
       "      <td>uM</td>\n",
       "      <td>16223.0</td>\n",
       "      <td>Protein</td>\n",
       "      <td>NaN</td>\n",
       "    </tr>\n",
       "    <tr>\n",
       "      <th>1</th>\n",
       "      <td>PanZ</td>\n",
       "      <td>PanZ-GVSEYG</td>\n",
       "      <td>NaN</td>\n",
       "      <td>uM</td>\n",
       "      <td>15623.0</td>\n",
       "      <td>Protein</td>\n",
       "      <td>NaN</td>\n",
       "    </tr>\n",
       "    <tr>\n",
       "      <th>2</th>\n",
       "      <td>PanZ</td>\n",
       "      <td>PanZ-OH</td>\n",
       "      <td>NaN</td>\n",
       "      <td>uM</td>\n",
       "      <td>15029.0</td>\n",
       "      <td>Protein</td>\n",
       "      <td>NaN</td>\n",
       "    </tr>\n",
       "    <tr>\n",
       "      <th>3</th>\n",
       "      <td>PanZ</td>\n",
       "      <td>PanZ-GVSEG</td>\n",
       "      <td>NaN</td>\n",
       "      <td>NaN</td>\n",
       "      <td>15459.0</td>\n",
       "      <td>Protein</td>\n",
       "      <td>NaN</td>\n",
       "    </tr>\n",
       "  </tbody>\n",
       "</table>\n",
       "</div>"
      ],
      "text/plain": [
       "  Reaction      Species  Concentration Units     Mass Reagent_Type Sequence\n",
       "0     PanZ         PanZ          100.0    uM  16223.0      Protein      NaN\n",
       "1     PanZ  PanZ-GVSEYG            NaN    uM  15623.0      Protein      NaN\n",
       "2     PanZ      PanZ-OH            NaN    uM  15029.0      Protein      NaN\n",
       "3     PanZ   PanZ-GVSEG            NaN   NaN  15459.0      Protein      NaN"
      ]
     },
     "execution_count": 14,
     "metadata": {},
     "output_type": "execute_result"
    }
   ],
   "source": [
    "eng.speciesmap"
   ]
  },
  {
   "cell_type": "code",
   "execution_count": 15,
   "metadata": {},
   "outputs": [],
   "source": [
    "eng.process_maps(groupby = 'Reaction', variable = 'Species')"
   ]
  },
  {
   "cell_type": "code",
   "execution_count": 16,
   "metadata": {},
   "outputs": [
    {
     "data": {
      "text/html": [
       "<div>\n",
       "<style scoped>\n",
       "    .dataframe tbody tr th:only-of-type {\n",
       "        vertical-align: middle;\n",
       "    }\n",
       "\n",
       "    .dataframe tbody tr th {\n",
       "        vertical-align: top;\n",
       "    }\n",
       "\n",
       "    .dataframe thead th {\n",
       "        text-align: right;\n",
       "    }\n",
       "</style>\n",
       "<table border=\"1\" class=\"dataframe\">\n",
       "  <thead>\n",
       "    <tr style=\"text-align: right;\">\n",
       "      <th></th>\n",
       "      <th>Type</th>\n",
       "      <th>Reaction</th>\n",
       "      <th>Time</th>\n",
       "      <th>Species</th>\n",
       "      <th>Valid</th>\n",
       "      <th>PanZ</th>\n",
       "      <th>PanZ-GVSEG</th>\n",
       "      <th>PanZ-GVSEYG</th>\n",
       "      <th>PanZ-OH</th>\n",
       "      <th>Spectra</th>\n",
       "    </tr>\n",
       "    <tr>\n",
       "      <th>Well ID</th>\n",
       "      <th></th>\n",
       "      <th></th>\n",
       "      <th></th>\n",
       "      <th></th>\n",
       "      <th></th>\n",
       "      <th></th>\n",
       "      <th></th>\n",
       "      <th></th>\n",
       "      <th></th>\n",
       "      <th></th>\n",
       "    </tr>\n",
       "  </thead>\n",
       "  <tbody>\n",
       "    <tr>\n",
       "      <th>1</th>\n",
       "      <td>Protein</td>\n",
       "      <td>PanZ</td>\n",
       "      <td>30</td>\n",
       "      <td>[PanZ, PanZ-GVSEG, PanZ-GVSEYG, PanZ-OH]</td>\n",
       "      <td>True</td>\n",
       "      <td>&lt;PanZ(Reaction = PanZ, Species = PanZ, Concent...</td>\n",
       "      <td>&lt;PanZ-GVSEG(Reaction = PanZ, Species = PanZ-GV...</td>\n",
       "      <td>&lt;PanZ-GVSEYG(Reaction = PanZ, Species = PanZ-G...</td>\n",
       "      <td>&lt;PanZ-OH(Reaction = PanZ, Species = PanZ-OH, C...</td>\n",
       "      <td>&lt;metaunidec.mudstruct.Spectrum object at 0x000...</td>\n",
       "    </tr>\n",
       "    <tr>\n",
       "      <th>2</th>\n",
       "      <td>Protein</td>\n",
       "      <td>PanZ</td>\n",
       "      <td>60</td>\n",
       "      <td>[PanZ, PanZ-GVSEG, PanZ-GVSEYG, PanZ-OH]</td>\n",
       "      <td>True</td>\n",
       "      <td>&lt;PanZ(Reaction = PanZ, Species = PanZ, Concent...</td>\n",
       "      <td>&lt;PanZ-GVSEG(Reaction = PanZ, Species = PanZ-GV...</td>\n",
       "      <td>&lt;PanZ-GVSEYG(Reaction = PanZ, Species = PanZ-G...</td>\n",
       "      <td>&lt;PanZ-OH(Reaction = PanZ, Species = PanZ-OH, C...</td>\n",
       "      <td>&lt;metaunidec.mudstruct.Spectrum object at 0x000...</td>\n",
       "    </tr>\n",
       "    <tr>\n",
       "      <th>3</th>\n",
       "      <td>Protein</td>\n",
       "      <td>PanZ</td>\n",
       "      <td>90</td>\n",
       "      <td>[PanZ, PanZ-GVSEG, PanZ-GVSEYG, PanZ-OH]</td>\n",
       "      <td>True</td>\n",
       "      <td>&lt;PanZ(Reaction = PanZ, Species = PanZ, Concent...</td>\n",
       "      <td>&lt;PanZ-GVSEG(Reaction = PanZ, Species = PanZ-GV...</td>\n",
       "      <td>&lt;PanZ-GVSEYG(Reaction = PanZ, Species = PanZ-G...</td>\n",
       "      <td>&lt;PanZ-OH(Reaction = PanZ, Species = PanZ-OH, C...</td>\n",
       "      <td>&lt;metaunidec.mudstruct.Spectrum object at 0x000...</td>\n",
       "    </tr>\n",
       "    <tr>\n",
       "      <th>4</th>\n",
       "      <td>Protein</td>\n",
       "      <td>PanZ</td>\n",
       "      <td>120</td>\n",
       "      <td>[PanZ, PanZ-GVSEG, PanZ-GVSEYG, PanZ-OH]</td>\n",
       "      <td>True</td>\n",
       "      <td>&lt;PanZ(Reaction = PanZ, Species = PanZ, Concent...</td>\n",
       "      <td>&lt;PanZ-GVSEG(Reaction = PanZ, Species = PanZ-GV...</td>\n",
       "      <td>&lt;PanZ-GVSEYG(Reaction = PanZ, Species = PanZ-G...</td>\n",
       "      <td>&lt;PanZ-OH(Reaction = PanZ, Species = PanZ-OH, C...</td>\n",
       "      <td>&lt;metaunidec.mudstruct.Spectrum object at 0x000...</td>\n",
       "    </tr>\n",
       "    <tr>\n",
       "      <th>5</th>\n",
       "      <td>Protein</td>\n",
       "      <td>PanZ</td>\n",
       "      <td>180</td>\n",
       "      <td>[PanZ, PanZ-GVSEG, PanZ-GVSEYG, PanZ-OH]</td>\n",
       "      <td>True</td>\n",
       "      <td>&lt;PanZ(Reaction = PanZ, Species = PanZ, Concent...</td>\n",
       "      <td>&lt;PanZ-GVSEG(Reaction = PanZ, Species = PanZ-GV...</td>\n",
       "      <td>&lt;PanZ-GVSEYG(Reaction = PanZ, Species = PanZ-G...</td>\n",
       "      <td>&lt;PanZ-OH(Reaction = PanZ, Species = PanZ-OH, C...</td>\n",
       "      <td>&lt;metaunidec.mudstruct.Spectrum object at 0x000...</td>\n",
       "    </tr>\n",
       "  </tbody>\n",
       "</table>\n",
       "</div>"
      ],
      "text/plain": [
       "            Type Reaction Time                                   Species  \\\n",
       "Well ID                                                                    \n",
       "1        Protein     PanZ   30  [PanZ, PanZ-GVSEG, PanZ-GVSEYG, PanZ-OH]   \n",
       "2        Protein     PanZ   60  [PanZ, PanZ-GVSEG, PanZ-GVSEYG, PanZ-OH]   \n",
       "3        Protein     PanZ   90  [PanZ, PanZ-GVSEG, PanZ-GVSEYG, PanZ-OH]   \n",
       "4        Protein     PanZ  120  [PanZ, PanZ-GVSEG, PanZ-GVSEYG, PanZ-OH]   \n",
       "5        Protein     PanZ  180  [PanZ, PanZ-GVSEG, PanZ-GVSEYG, PanZ-OH]   \n",
       "\n",
       "         Valid                                               PanZ  \\\n",
       "Well ID                                                             \n",
       "1         True  <PanZ(Reaction = PanZ, Species = PanZ, Concent...   \n",
       "2         True  <PanZ(Reaction = PanZ, Species = PanZ, Concent...   \n",
       "3         True  <PanZ(Reaction = PanZ, Species = PanZ, Concent...   \n",
       "4         True  <PanZ(Reaction = PanZ, Species = PanZ, Concent...   \n",
       "5         True  <PanZ(Reaction = PanZ, Species = PanZ, Concent...   \n",
       "\n",
       "                                                PanZ-GVSEG  \\\n",
       "Well ID                                                      \n",
       "1        <PanZ-GVSEG(Reaction = PanZ, Species = PanZ-GV...   \n",
       "2        <PanZ-GVSEG(Reaction = PanZ, Species = PanZ-GV...   \n",
       "3        <PanZ-GVSEG(Reaction = PanZ, Species = PanZ-GV...   \n",
       "4        <PanZ-GVSEG(Reaction = PanZ, Species = PanZ-GV...   \n",
       "5        <PanZ-GVSEG(Reaction = PanZ, Species = PanZ-GV...   \n",
       "\n",
       "                                               PanZ-GVSEYG  \\\n",
       "Well ID                                                      \n",
       "1        <PanZ-GVSEYG(Reaction = PanZ, Species = PanZ-G...   \n",
       "2        <PanZ-GVSEYG(Reaction = PanZ, Species = PanZ-G...   \n",
       "3        <PanZ-GVSEYG(Reaction = PanZ, Species = PanZ-G...   \n",
       "4        <PanZ-GVSEYG(Reaction = PanZ, Species = PanZ-G...   \n",
       "5        <PanZ-GVSEYG(Reaction = PanZ, Species = PanZ-G...   \n",
       "\n",
       "                                                   PanZ-OH  \\\n",
       "Well ID                                                      \n",
       "1        <PanZ-OH(Reaction = PanZ, Species = PanZ-OH, C...   \n",
       "2        <PanZ-OH(Reaction = PanZ, Species = PanZ-OH, C...   \n",
       "3        <PanZ-OH(Reaction = PanZ, Species = PanZ-OH, C...   \n",
       "4        <PanZ-OH(Reaction = PanZ, Species = PanZ-OH, C...   \n",
       "5        <PanZ-OH(Reaction = PanZ, Species = PanZ-OH, C...   \n",
       "\n",
       "                                                   Spectra  \n",
       "Well ID                                                     \n",
       "1        <metaunidec.mudstruct.Spectrum object at 0x000...  \n",
       "2        <metaunidec.mudstruct.Spectrum object at 0x000...  \n",
       "3        <metaunidec.mudstruct.Spectrum object at 0x000...  \n",
       "4        <metaunidec.mudstruct.Spectrum object at 0x000...  \n",
       "5        <metaunidec.mudstruct.Spectrum object at 0x000...  "
      ]
     },
     "execution_count": 16,
     "metadata": {},
     "output_type": "execute_result"
    }
   ],
   "source": [
    "eng.pmap2"
   ]
  },
  {
   "cell_type": "markdown",
   "metadata": {},
   "source": [
    "invalidate data using eng.invalidate()"
   ]
  },
  {
   "cell_type": "code",
   "execution_count": 17,
   "metadata": {},
   "outputs": [
    {
     "data": {
      "image/png": "[encoded data removed]",
      "text/plain": [
       "<Figure size 432x288 with 1 Axes>"
      ]
     },
     "metadata": {
      "needs_background": "light"
     },
     "output_type": "display_data"
    },
    {
     "data": {
      "image/png": "[encoded data removed]",
      "text/plain": [
       "<Figure size 432x288 with 1 Axes>"
      ]
     },
     "metadata": {
      "needs_background": "light"
     },
     "output_type": "display_data"
    }
   ],
   "source": [
    "eng.peak_match(silent = True)\n",
    "eng.normalise_peaks(silent = True)\n",
    "\n",
    "eng.plot_data(plot_type='bar', groupby='Time')\n",
    "# eng.invalidate(\"30\")\n",
    "\n",
    "eng.plot_data(cmap = 'tab20b', title = \"Srt6M\")"
   ]
  },
  {
   "cell_type": "code",
   "execution_count": 18,
   "metadata": {},
   "outputs": [
    {
     "data": {
      "text/plain": [
       "['__class__',\n",
       " '__delattr__',\n",
       " '__dict__',\n",
       " '__dir__',\n",
       " '__doc__',\n",
       " '__eq__',\n",
       " '__format__',\n",
       " '__ge__',\n",
       " '__getattribute__',\n",
       " '__gt__',\n",
       " '__hash__',\n",
       " '__init__',\n",
       " '__init_subclass__',\n",
       " '__le__',\n",
       " '__lt__',\n",
       " '__module__',\n",
       " '__ne__',\n",
       " '__new__',\n",
       " '__reduce__',\n",
       " '__reduce_ex__',\n",
       " '__repr__',\n",
       " '__setattr__',\n",
       " '__sizeof__',\n",
       " '__str__',\n",
       " '__subclasshook__',\n",
       " '__weakref__',\n",
       " '_export_proc',\n",
       " '_get_valid',\n",
       " '_read_long',\n",
       " '_read_short',\n",
       " '_set_spectra_colors',\n",
       " '_update_spectra',\n",
       " 'add_chrom_peaks',\n",
       " 'add_chrom_peaks2',\n",
       " 'add_list_times',\n",
       " 'add_manual_selection',\n",
       " 'add_regular_times',\n",
       " 'add_sliding_window',\n",
       " 'attrs',\n",
       " 'batch_extract',\n",
       " 'batch_run_unidec',\n",
       " 'batch_set_config',\n",
       " 'check_badness',\n",
       " 'chromdat',\n",
       " 'chrompeaks',\n",
       " 'chrompeaks_tranges',\n",
       " 'clear',\n",
       " 'clear_history',\n",
       " 'combine_scanpeaks',\n",
       " 'config',\n",
       " 'config_count',\n",
       " 'config_history',\n",
       " 'copy_config',\n",
       " 'data',\n",
       " 'data_df',\n",
       " 'dirname',\n",
       " 'export_config',\n",
       " 'export_params',\n",
       " 'export_spectra',\n",
       " 'extract_data',\n",
       " 'filename',\n",
       " 'filter_peaks',\n",
       " 'fit_data',\n",
       " 'get_auto_peak_width',\n",
       " 'get_auto_peak_width2',\n",
       " 'get_chrom_peaks',\n",
       " 'get_data_from_scans',\n",
       " 'get_data_from_times',\n",
       " 'get_files',\n",
       " 'get_times',\n",
       " 'import_mzml',\n",
       " 'initial_rate',\n",
       " 'initialize',\n",
       " 'integrate_all',\n",
       " 'invalidate',\n",
       " 'linear_regression_peaks',\n",
       " 'load_config',\n",
       " 'load_default',\n",
       " 'load_multi_mzml',\n",
       " 'load_multi_single',\n",
       " 'load_mzml',\n",
       " 'make_grids',\n",
       " 'massdat',\n",
       " 'match_peaks',\n",
       " 'michaelis_analysis',\n",
       " 'mzdata',\n",
       " 'normalise_peaks',\n",
       " 'normalize_exgrid',\n",
       " 'open',\n",
       " 'open_chrom',\n",
       " 'open_hdf5_file',\n",
       " 'out',\n",
       " 'outpath',\n",
       " 'oxidation_analysis',\n",
       " 'parse_file',\n",
       " 'parse_multiple_files',\n",
       " 'path',\n",
       " 'peak_match',\n",
       " 'peakplotthresh',\n",
       " 'peaks_error_replicates',\n",
       " 'peaks_heights',\n",
       " 'pheaders',\n",
       " 'pick_peaks',\n",
       " 'pick_scanpeaks',\n",
       " 'pks',\n",
       " 'plot_all',\n",
       " 'plot_data',\n",
       " 'plot_tic',\n",
       " 'pmap',\n",
       " 'pmap2',\n",
       " 'pmap3',\n",
       " 'polydispersity_index',\n",
       " 'procdata',\n",
       " 'process',\n",
       " 'process_data',\n",
       " 'process_maps',\n",
       " 'read_hdf5',\n",
       " 'redo',\n",
       " 'reset_config',\n",
       " 'reset_vars',\n",
       " 'rheaders',\n",
       " 'run_unidec',\n",
       " 'save_default',\n",
       " 'scanpeaks_extracts',\n",
       " 'scans',\n",
       " 'setup_filenames',\n",
       " 'speciesmap',\n",
       " 'spectra',\n",
       " 'sum_masses',\n",
       " 'tic',\n",
       " 'ticdat',\n",
       " 'undo',\n",
       " 'unidec_eng',\n",
       " 'update_config',\n",
       " 'update_history',\n",
       " 'update_vars',\n",
       " 'upload_map',\n",
       " 'version',\n",
       " 'write_hdf5']"
      ]
     },
     "execution_count": 18,
     "metadata": {},
     "output_type": "execute_result"
    }
   ],
   "source": [
    "dir(eng)"
   ]
  },
  {
   "cell_type": "code",
   "execution_count": 19,
   "metadata": {},
   "outputs": [
    {
     "data": {
      "text/html": [
       "<div>\n",
       "<style scoped>\n",
       "    .dataframe tbody tr th:only-of-type {\n",
       "        vertical-align: middle;\n",
       "    }\n",
       "\n",
       "    .dataframe tbody tr th {\n",
       "        vertical-align: top;\n",
       "    }\n",
       "\n",
       "    .dataframe thead th {\n",
       "        text-align: right;\n",
       "    }\n",
       "</style>\n",
       "<table border=\"1\" class=\"dataframe\">\n",
       "  <thead>\n",
       "    <tr style=\"text-align: right;\">\n",
       "      <th></th>\n",
       "      <th>Reaction</th>\n",
       "      <th>Species</th>\n",
       "      <th>Concentration</th>\n",
       "      <th>Units</th>\n",
       "      <th>Mass</th>\n",
       "      <th>Reagent_Type</th>\n",
       "      <th>Sequence</th>\n",
       "    </tr>\n",
       "  </thead>\n",
       "  <tbody>\n",
       "    <tr>\n",
       "      <th>0</th>\n",
       "      <td>PanZ</td>\n",
       "      <td>PanZ</td>\n",
       "      <td>100.0</td>\n",
       "      <td>uM</td>\n",
       "      <td>16223.0</td>\n",
       "      <td>Protein</td>\n",
       "      <td>NaN</td>\n",
       "    </tr>\n",
       "    <tr>\n",
       "      <th>1</th>\n",
       "      <td>PanZ</td>\n",
       "      <td>PanZ-GVSEYG</td>\n",
       "      <td>NaN</td>\n",
       "      <td>uM</td>\n",
       "      <td>15623.0</td>\n",
       "      <td>Protein</td>\n",
       "      <td>NaN</td>\n",
       "    </tr>\n",
       "    <tr>\n",
       "      <th>2</th>\n",
       "      <td>PanZ</td>\n",
       "      <td>PanZ-OH</td>\n",
       "      <td>NaN</td>\n",
       "      <td>uM</td>\n",
       "      <td>15029.0</td>\n",
       "      <td>Protein</td>\n",
       "      <td>NaN</td>\n",
       "    </tr>\n",
       "    <tr>\n",
       "      <th>3</th>\n",
       "      <td>PanZ</td>\n",
       "      <td>PanZ-GVSEG</td>\n",
       "      <td>NaN</td>\n",
       "      <td>NaN</td>\n",
       "      <td>15459.0</td>\n",
       "      <td>Protein</td>\n",
       "      <td>NaN</td>\n",
       "    </tr>\n",
       "  </tbody>\n",
       "</table>\n",
       "</div>"
      ],
      "text/plain": [
       "  Reaction      Species  Concentration Units     Mass Reagent_Type Sequence\n",
       "0     PanZ         PanZ          100.0    uM  16223.0      Protein      NaN\n",
       "1     PanZ  PanZ-GVSEYG            NaN    uM  15623.0      Protein      NaN\n",
       "2     PanZ      PanZ-OH            NaN    uM  15029.0      Protein      NaN\n",
       "3     PanZ   PanZ-GVSEG            NaN   NaN  15459.0      Protein      NaN"
      ]
     },
     "execution_count": 19,
     "metadata": {},
     "output_type": "execute_result"
    }
   ],
   "source": [
    "eng.speciesmap"
   ]
  },
  {
   "cell_type": "code",
   "execution_count": 20,
   "metadata": {},
   "outputs": [
    {
     "data": {
      "text/html": [
       "<div>\n",
       "<style scoped>\n",
       "    .dataframe tbody tr th:only-of-type {\n",
       "        vertical-align: middle;\n",
       "    }\n",
       "\n",
       "    .dataframe tbody tr th {\n",
       "        vertical-align: top;\n",
       "    }\n",
       "\n",
       "    .dataframe thead th {\n",
       "        text-align: right;\n",
       "    }\n",
       "</style>\n",
       "<table border=\"1\" class=\"dataframe\">\n",
       "  <thead>\n",
       "    <tr style=\"text-align: right;\">\n",
       "      <th></th>\n",
       "      <th>Type</th>\n",
       "      <th>Reaction</th>\n",
       "      <th>Time</th>\n",
       "      <th>Species</th>\n",
       "      <th>Valid</th>\n",
       "      <th>PanZ</th>\n",
       "      <th>PanZ-GVSEG</th>\n",
       "      <th>PanZ-GVSEYG</th>\n",
       "      <th>PanZ-OH</th>\n",
       "      <th>Spectra</th>\n",
       "    </tr>\n",
       "    <tr>\n",
       "      <th>Well ID</th>\n",
       "      <th></th>\n",
       "      <th></th>\n",
       "      <th></th>\n",
       "      <th></th>\n",
       "      <th></th>\n",
       "      <th></th>\n",
       "      <th></th>\n",
       "      <th></th>\n",
       "      <th></th>\n",
       "      <th></th>\n",
       "    </tr>\n",
       "  </thead>\n",
       "  <tbody>\n",
       "    <tr>\n",
       "      <th>1</th>\n",
       "      <td>Protein</td>\n",
       "      <td>PanZ</td>\n",
       "      <td>30</td>\n",
       "      <td>[PanZ, PanZ-GVSEG, PanZ-GVSEYG, PanZ-OH]</td>\n",
       "      <td>True</td>\n",
       "      <td>&lt;PanZ(Reaction = PanZ, Species = PanZ, Concent...</td>\n",
       "      <td>&lt;PanZ-GVSEG(Reaction = PanZ, Species = PanZ-GV...</td>\n",
       "      <td>&lt;PanZ-GVSEYG(Reaction = PanZ, Species = PanZ-G...</td>\n",
       "      <td>&lt;PanZ-OH(Reaction = PanZ, Species = PanZ-OH, C...</td>\n",
       "      <td>&lt;metaunidec.mudstruct.Spectrum object at 0x000...</td>\n",
       "    </tr>\n",
       "    <tr>\n",
       "      <th>2</th>\n",
       "      <td>Protein</td>\n",
       "      <td>PanZ</td>\n",
       "      <td>60</td>\n",
       "      <td>[PanZ, PanZ-GVSEG, PanZ-GVSEYG, PanZ-OH]</td>\n",
       "      <td>True</td>\n",
       "      <td>&lt;PanZ(Reaction = PanZ, Species = PanZ, Concent...</td>\n",
       "      <td>&lt;PanZ-GVSEG(Reaction = PanZ, Species = PanZ-GV...</td>\n",
       "      <td>&lt;PanZ-GVSEYG(Reaction = PanZ, Species = PanZ-G...</td>\n",
       "      <td>&lt;PanZ-OH(Reaction = PanZ, Species = PanZ-OH, C...</td>\n",
       "      <td>&lt;metaunidec.mudstruct.Spectrum object at 0x000...</td>\n",
       "    </tr>\n",
       "    <tr>\n",
       "      <th>3</th>\n",
       "      <td>Protein</td>\n",
       "      <td>PanZ</td>\n",
       "      <td>90</td>\n",
       "      <td>[PanZ, PanZ-GVSEG, PanZ-GVSEYG, PanZ-OH]</td>\n",
       "      <td>True</td>\n",
       "      <td>&lt;PanZ(Reaction = PanZ, Species = PanZ, Concent...</td>\n",
       "      <td>&lt;PanZ-GVSEG(Reaction = PanZ, Species = PanZ-GV...</td>\n",
       "      <td>&lt;PanZ-GVSEYG(Reaction = PanZ, Species = PanZ-G...</td>\n",
       "      <td>&lt;PanZ-OH(Reaction = PanZ, Species = PanZ-OH, C...</td>\n",
       "      <td>&lt;metaunidec.mudstruct.Spectrum object at 0x000...</td>\n",
       "    </tr>\n",
       "    <tr>\n",
       "      <th>4</th>\n",
       "      <td>Protein</td>\n",
       "      <td>PanZ</td>\n",
       "      <td>120</td>\n",
       "      <td>[PanZ, PanZ-GVSEG, PanZ-GVSEYG, PanZ-OH]</td>\n",
       "      <td>True</td>\n",
       "      <td>&lt;PanZ(Reaction = PanZ, Species = PanZ, Concent...</td>\n",
       "      <td>&lt;PanZ-GVSEG(Reaction = PanZ, Species = PanZ-GV...</td>\n",
       "      <td>&lt;PanZ-GVSEYG(Reaction = PanZ, Species = PanZ-G...</td>\n",
       "      <td>&lt;PanZ-OH(Reaction = PanZ, Species = PanZ-OH, C...</td>\n",
       "      <td>&lt;metaunidec.mudstruct.Spectrum object at 0x000...</td>\n",
       "    </tr>\n",
       "    <tr>\n",
       "      <th>5</th>\n",
       "      <td>Protein</td>\n",
       "      <td>PanZ</td>\n",
       "      <td>180</td>\n",
       "      <td>[PanZ, PanZ-GVSEG, PanZ-GVSEYG, PanZ-OH]</td>\n",
       "      <td>True</td>\n",
       "      <td>&lt;PanZ(Reaction = PanZ, Species = PanZ, Concent...</td>\n",
       "      <td>&lt;PanZ-GVSEG(Reaction = PanZ, Species = PanZ-GV...</td>\n",
       "      <td>&lt;PanZ-GVSEYG(Reaction = PanZ, Species = PanZ-G...</td>\n",
       "      <td>&lt;PanZ-OH(Reaction = PanZ, Species = PanZ-OH, C...</td>\n",
       "      <td>&lt;metaunidec.mudstruct.Spectrum object at 0x000...</td>\n",
       "    </tr>\n",
       "  </tbody>\n",
       "</table>\n",
       "</div>"
      ],
      "text/plain": [
       "            Type Reaction Time                                   Species  \\\n",
       "Well ID                                                                    \n",
       "1        Protein     PanZ   30  [PanZ, PanZ-GVSEG, PanZ-GVSEYG, PanZ-OH]   \n",
       "2        Protein     PanZ   60  [PanZ, PanZ-GVSEG, PanZ-GVSEYG, PanZ-OH]   \n",
       "3        Protein     PanZ   90  [PanZ, PanZ-GVSEG, PanZ-GVSEYG, PanZ-OH]   \n",
       "4        Protein     PanZ  120  [PanZ, PanZ-GVSEG, PanZ-GVSEYG, PanZ-OH]   \n",
       "5        Protein     PanZ  180  [PanZ, PanZ-GVSEG, PanZ-GVSEYG, PanZ-OH]   \n",
       "\n",
       "         Valid                                               PanZ  \\\n",
       "Well ID                                                             \n",
       "1         True  <PanZ(Reaction = PanZ, Species = PanZ, Concent...   \n",
       "2         True  <PanZ(Reaction = PanZ, Species = PanZ, Concent...   \n",
       "3         True  <PanZ(Reaction = PanZ, Species = PanZ, Concent...   \n",
       "4         True  <PanZ(Reaction = PanZ, Species = PanZ, Concent...   \n",
       "5         True  <PanZ(Reaction = PanZ, Species = PanZ, Concent...   \n",
       "\n",
       "                                                PanZ-GVSEG  \\\n",
       "Well ID                                                      \n",
       "1        <PanZ-GVSEG(Reaction = PanZ, Species = PanZ-GV...   \n",
       "2        <PanZ-GVSEG(Reaction = PanZ, Species = PanZ-GV...   \n",
       "3        <PanZ-GVSEG(Reaction = PanZ, Species = PanZ-GV...   \n",
       "4        <PanZ-GVSEG(Reaction = PanZ, Species = PanZ-GV...   \n",
       "5        <PanZ-GVSEG(Reaction = PanZ, Species = PanZ-GV...   \n",
       "\n",
       "                                               PanZ-GVSEYG  \\\n",
       "Well ID                                                      \n",
       "1        <PanZ-GVSEYG(Reaction = PanZ, Species = PanZ-G...   \n",
       "2        <PanZ-GVSEYG(Reaction = PanZ, Species = PanZ-G...   \n",
       "3        <PanZ-GVSEYG(Reaction = PanZ, Species = PanZ-G...   \n",
       "4        <PanZ-GVSEYG(Reaction = PanZ, Species = PanZ-G...   \n",
       "5        <PanZ-GVSEYG(Reaction = PanZ, Species = PanZ-G...   \n",
       "\n",
       "                                                   PanZ-OH  \\\n",
       "Well ID                                                      \n",
       "1        <PanZ-OH(Reaction = PanZ, Species = PanZ-OH, C...   \n",
       "2        <PanZ-OH(Reaction = PanZ, Species = PanZ-OH, C...   \n",
       "3        <PanZ-OH(Reaction = PanZ, Species = PanZ-OH, C...   \n",
       "4        <PanZ-OH(Reaction = PanZ, Species = PanZ-OH, C...   \n",
       "5        <PanZ-OH(Reaction = PanZ, Species = PanZ-OH, C...   \n",
       "\n",
       "                                                   Spectra  \n",
       "Well ID                                                     \n",
       "1        <metaunidec.mudstruct.Spectrum object at 0x000...  \n",
       "2        <metaunidec.mudstruct.Spectrum object at 0x000...  \n",
       "3        <metaunidec.mudstruct.Spectrum object at 0x000...  \n",
       "4        <metaunidec.mudstruct.Spectrum object at 0x000...  \n",
       "5        <metaunidec.mudstruct.Spectrum object at 0x000...  "
      ]
     },
     "execution_count": 20,
     "metadata": {},
     "output_type": "execute_result"
    }
   ],
   "source": [
    "eng.pmap3"
   ]
  },
  {
   "cell_type": "code",
   "execution_count": 21,
   "metadata": {},
   "outputs": [
    {
     "data": {
      "text/plain": [
       "<PanZ(Reaction = PanZ, Species = PanZ, Concentration = 100.0, Units = uM, Mass = 16223.0, Reagent_Type = Protein, Sequence = nan, __name__ = PanZ, peak = <unidec_modules.peakstructure.Peak object at 0x000001C90AED67C0>, speciesmap = None, pmap = None, integral = 6099328.0, color = [0.5 0.  1.  1. ], cmap = viridis, percentage = 0.4714357256889343)>"
      ]
     },
     "execution_count": 21,
     "metadata": {},
     "output_type": "execute_result"
    }
   ],
   "source": [
    "eng.pmap3.PanZ.iloc[2]"
   ]
  }
 ],
 "metadata": {
  "kernelspec": {
   "display_name": "Python 3",
   "language": "python",
   "name": "python3"
  },
  "language_info": {
   "codemirror_mode": {
    "name": "ipython",
    "version": 3
   },
   "file_extension": ".py",
   "mimetype": "text/x-python",
   "name": "python",
   "nbconvert_exporter": "python",
   "pygments_lexer": "ipython3",
   "version": "3.8.5"
  }
 },
 "nbformat": 4,
 "nbformat_minor": 4
}
