{
 "cells": [
  {
   "cell_type": "code",
   "execution_count": 1,
   "metadata": {},
   "outputs": [
    {
     "ename": "ModuleNotFoundError",
     "evalue": "No module named 'unidec_modules.SeqChrom2'",
     "output_type": "error",
     "traceback": [
      "\u001b[1;31m---------------------------------------------------------------------------\u001b[0m",
      "\u001b[1;31mModuleNotFoundError\u001b[0m                       Traceback (most recent call last)",
      "\u001b[1;32m<ipython-input-1-1e4662b1f92b>\u001b[0m in \u001b[0;36m<module>\u001b[1;34m\u001b[0m\n\u001b[0;32m      6\u001b[0m \u001b[1;32mfrom\u001b[0m \u001b[0munidec_modules\u001b[0m \u001b[1;32mimport\u001b[0m \u001b[0munidectools\u001b[0m \u001b[1;32mas\u001b[0m \u001b[0mud\u001b[0m\u001b[1;33m\u001b[0m\u001b[1;33m\u001b[0m\u001b[0m\n\u001b[0;32m      7\u001b[0m \u001b[1;32mfrom\u001b[0m \u001b[0mcopy\u001b[0m \u001b[1;32mimport\u001b[0m \u001b[0mdeepcopy\u001b[0m\u001b[1;33m\u001b[0m\u001b[1;33m\u001b[0m\u001b[0m\n\u001b[1;32m----> 8\u001b[1;33m \u001b[1;32mfrom\u001b[0m \u001b[0munidec_modules\u001b[0m\u001b[1;33m.\u001b[0m\u001b[0mSeqChrom2\u001b[0m \u001b[1;32mimport\u001b[0m \u001b[1;33m*\u001b[0m\u001b[1;33m\u001b[0m\u001b[1;33m\u001b[0m\u001b[0m\n\u001b[0m\u001b[0;32m      9\u001b[0m \u001b[1;32mimport\u001b[0m \u001b[0mscipy\u001b[0m\u001b[1;33m\u001b[0m\u001b[1;33m\u001b[0m\u001b[0m\n\u001b[0;32m     10\u001b[0m \u001b[1;32mfrom\u001b[0m \u001b[0mcopy\u001b[0m \u001b[1;32mimport\u001b[0m \u001b[0mdeepcopy\u001b[0m\u001b[1;33m\u001b[0m\u001b[1;33m\u001b[0m\u001b[0m\n",
      "\u001b[1;31mModuleNotFoundError\u001b[0m: No module named 'unidec_modules.SeqChrom2'"
     ]
    }
   ],
   "source": [
    "import numpy as np\n",
    "import plate_map as pm\n",
    "import pandas as pd\n",
    "import matplotlib.pyplot as plt\n",
    "import matplotlib.ticker as ticker\n",
    "from unidec_modules import unidectools as ud\n",
    "from copy import deepcopy \n",
    "from unidec_modules.SeqChrom import *\n",
    "import scipy\n",
    "from copy import deepcopy\n",
    "import copy"
   ]
  },
  {
   "cell_type": "code",
   "execution_count": null,
   "metadata": {},
   "outputs": [],
   "source": [
    "eng = SeqChrom()"
   ]
  },
  {
   "cell_type": "code",
   "execution_count": null,
   "metadata": {},
   "outputs": [],
   "source": [
    "spectra_path = \"D:\\\\211111 mass spec\\\\processed\\\\211111 ctb ratio v2_336087_GA7_01_80179.d.mzML\"\n",
    "map_path = \"C:\\\\Users\\\\cm19ljc\\\\Documents\\\\GitHub\\\\UniDec\\\\reaction maps\\\\CTB ratio map.xlsx\"\n",
    "eng.load_mzml(spectra_path)"
   ]
  },
  {
   "cell_type": "code",
   "execution_count": null,
   "metadata": {},
   "outputs": [],
   "source": [
    "eng.config.chrom_peak_width = 0.05 \n",
    "eng.get_chrom_peaks(lb = 1, ub = 5.5) "
   ]
  },
  {
   "cell_type": "code",
   "execution_count": null,
   "metadata": {},
   "outputs": [],
   "source": [
    "eng.add_chrom_peaks2() \n",
    "eng.plot_tic(peak_windows = True)"
   ]
  },
  {
   "cell_type": "code",
   "execution_count": null,
   "metadata": {},
   "outputs": [],
   "source": [
    "eng.update_config(masslb = 10000, massub = 100000, minmz = 750, peakthresh = 0.02)\n",
    "eng.process_data()\n",
    "eng.run_unidec()\n",
    "eng.pick_peaks()\n",
    "eng.integrate_all()"
   ]
  },
  {
   "cell_type": "code",
   "execution_count": null,
   "metadata": {},
   "outputs": [],
   "source": [
    "eng.plot_all(dtype = 'data2', combine = False, cmap = 'viridis')"
   ]
  },
  {
   "cell_type": "code",
   "execution_count": null,
   "metadata": {},
   "outputs": [],
   "source": [
    "eng.plot_all(dtype = 'massdat', combine = False, cmap = 'viridis', xlim = [10000, 20000])"
   ]
  },
  {
   "cell_type": "code",
   "execution_count": null,
   "metadata": {},
   "outputs": [],
   "source": [
    "rmap = eng.upload_map(map_path)"
   ]
  },
  {
   "cell_type": "code",
   "execution_count": null,
   "metadata": {},
   "outputs": [],
   "source": [
    "species, wells = eng.upload_map(map_path)\n",
    "species"
   ]
  },
  {
   "cell_type": "code",
   "execution_count": null,
   "metadata": {},
   "outputs": [],
   "source": [
    "wells"
   ]
  },
  {
   "cell_type": "code",
   "execution_count": null,
   "metadata": {},
   "outputs": [],
   "source": [
    "self = eng\n",
    "species, wells = eng.upload_map(map_path)\n",
    "def process_maps(self, groupby = 'Reaction'):\n",
    "\n",
    "    \n",
    "\n",
    "    # Reaction OR Substrate Conc\n",
    "\n",
    "    self.pmap2 = self.pmap[self.pmap['Type'] != 'empty']\n",
    "    self.pmap2.loc[:, 'Species'] = np.nan\n",
    "\n",
    "    for skey, sval in self.speciesmap.groupby(['Reaction']):\n",
    "        splist = [Species(spval.to_dict('records')[0], name = spkey) for spkey, spval in sval.groupby('Species')]\n",
    "        splist = colorcodeclass(splist)\n",
    "\n",
    "        for s in splist:\n",
    "            self.pmap2.loc[:, s.__name__] = np.nan\n",
    "            self.pmap2.loc[self.pmap2['Reaction']==skey, s.__name__] = self.pmap2.apply(lambda _:deepcopy(s), axis = 1)\n",
    "\n",
    "        spnames = [s.__name__ for s in splist]\n",
    "        self.pmap2.loc[self.pmap2['Reaction']==skey, 'Species'] = self.pmap2.apply(lambda _:spnames, axis = 1)\n",
    "\n",
    "    # update_vars\n",
    "\n",
    "    if len(self.data.spectra) == len(self.pmap2):\n",
    "        for i, s in enumerate(self.data.spectra):\n",
    "            well_id = self.pmap2.index[i]\n",
    "            timevar = self.pmap2['Time'].iloc[i]\n",
    "            s.attrs['Variable 1'] = well_id\n",
    "            s.var1 = well_id\n",
    "            s.attrs['Variable 2'] = timevar\n",
    "            s.var2 = timevar\n",
    "            self.pmap2.loc[well_id, 'Spectra'] = s\n",
    "\n",
    "\n",
    "\n",
    "    spectra = {s.var1:s for s in self.data.spectra}\n",
    "\n",
    "    # update species with well info/metadata \n",
    "\n",
    "    groupby = 'Reaction' # Reaction OR Substrate Conc\n",
    "\n",
    "    for index, row in self.pmap2.iterrows():\n",
    "        for specs in row['Species']:\n",
    "            row[specs] = deepcopy(row[specs])\n",
    "            row[specs].coord = row.name\n",
    "    #         print(row[specs])\n",
    "            vals = row[~row.index.isin(row['Species'])].to_dict()\n",
    "            row[specs].__dict__.update(vals)\n",
    "    return self\n",
    "            \n",
    "# match peaks\n",
    "# prep \n",
    "\n",
    "def peak_match(self, window = 10):\n",
    "    window = 10\n",
    "\n",
    "    intmat = np.array([])\n",
    "\n",
    "    for index, row in self.pmap2.iterrows():\n",
    "\n",
    "        rowints = np.array([])\n",
    "\n",
    "        specieslist = list(row[row.index.isin(row['Species'])])\n",
    "        theory_masses = np.array([sp.Mass for sp in specieslist])\n",
    "        data_masses = np.array([p.mass for p in row['Spectra'].pks.peaks])\n",
    "        pks = np.array([p for p in row['Spectra'].pks.peaks])\n",
    "\n",
    "        # match algorithm \n",
    "        tm, dm = np.meshgrid(theory_masses, data_masses)\n",
    "        diff = abs(tm - dm)\n",
    "        diff[diff>window] = np.nan\n",
    "        for i, d in enumerate(diff):\n",
    "            if np.isnan(d).all()==False:\n",
    "                minimum = np.nanargmin(d)\n",
    "                data_peak = data_masses[i]\n",
    "\n",
    "                specieslist[minimum].peak = pks[i]\n",
    "                specieslist[minimum].integral = pks[i].integral[0]\n",
    "                print(\"{}, {} = {}\".format(row[row.index.isin(row['Species'])][minimum].__name__, data_peak, pks[i]))\n",
    "\n",
    "                row[row.index.isin(row['Species'])][minimum].integral = pks[i].integral[0]\n",
    "                row[row.index.isin(row['Species'])][minimum].peak = pks[i]\n",
    "                np.append(rowints, pks[i].integral[0])\n",
    "                print(row[row.index.isin(row['Species'])][minimum].integral)\n",
    "\n",
    "    return self\n"
   ]
  },
  {
   "cell_type": "code",
   "execution_count": null,
   "metadata": {},
   "outputs": [],
   "source": [
    "self = process_maps(self)\n",
    "self = peak_match(self)"
   ]
  },
  {
   "cell_type": "code",
   "execution_count": null,
   "metadata": {},
   "outputs": [],
   "source": [
    "def normalise_peaks(self):\n",
    "    for index, row in self.pmap2.iterrows():\n",
    "        ints = []\n",
    "        for s in row[row['Species']]:\n",
    "            if type(s.integral) != list:\n",
    "                ints.append(s.integral)\n",
    "\n",
    "    #     ints = np.array([s.integral for s in row[row['Species']]])\n",
    "        sum_ints = np.sum(ints)\n",
    "        for s in row[row['Species']]:\n",
    "            if type(s.integral) != list:\n",
    "                s.percentage = s.integral/sum_ints\n",
    "            else:\n",
    "                s.percentage = 0\n",
    "            print(\"{}:{}\".format(s.__name__, s.percentage))\n",
    "            \n",
    "    return self\n",
    "\n",
    "eng = normalise_peaks(eng)"
   ]
  },
  {
   "cell_type": "code",
   "execution_count": null,
   "metadata": {
    "scrolled": true
   },
   "outputs": [],
   "source": [
    "# get data\n",
    "\n",
    "species = None\n",
    "datatype = 'percentage'\n",
    "rxndct = {}\n",
    "groupby = 'Reaction'\n",
    "\n",
    "# def extract_data(self):\n",
    "\n",
    "rxns_tc = []\n",
    "for k, v in self.pmap2.groupby(groupby):\n",
    "\n",
    "    time = v['Time']\n",
    "    speciesdct = {}\n",
    "    speciestimedct = {}\n",
    "\n",
    "    for index, row in v.iterrows():\n",
    "        if species == None:\n",
    "            species = row.Species\n",
    "\n",
    "        if len(species) == 1:\n",
    "            species = [species]\n",
    "\n",
    "        for s in species:\n",
    "            if s in speciesdct:\n",
    "                speciesdct[s].append(getattr(row[s], datatype))\n",
    "                speciestimedct[s].append(row['Time'])\n",
    "\n",
    "            else:\n",
    "                speciesdct[s] = [getattr(row[s], datatype)]\n",
    "                speciestimedct[s] = [row['Time']]\n",
    "    df = pd.DataFrame(speciesdct, index = time)\n",
    "    rxns_tc.append(df)\n",
    "    \n",
    "if len(rxns_tc) == 1:\n",
    "    rxns_tc = rxns_tc[0]\n",
    "    \n",
    "for name, y in speciesdct.items():\n",
    "\n",
    "    plt.plot(time, y, label = name)\n",
    "    plt.legend(loc = \"center right\")\n",
    "    plt.title(eng.path)\n",
    "    plt.show\n",
    "        \n",
    "    \n",
    "rxndct[k] = pd.DataFrame(speciesdct, index = time)\n",
    "speciesdct"
   ]
  },
  {
   "cell_type": "code",
   "execution_count": null,
   "metadata": {},
   "outputs": [],
   "source": [
    "eng.chrompeaks_tranges"
   ]
  },
  {
   "cell_type": "code",
   "execution_count": null,
   "metadata": {},
   "outputs": [],
   "source": [
    "df = pd.DataFrame(speciesdct, index = time)"
   ]
  },
  {
   "cell_type": "code",
   "execution_count": null,
   "metadata": {},
   "outputs": [],
   "source": [
    "fig = plt.subplots()\n",
    "\n",
    "for species in df.columns:\n",
    "\n",
    "    tc = np.array(df[species])    \n",
    "    if ~np.all((tc==0)):\n",
    "        df[species].plot(label = species)\n",
    "        plt.xlabel(\"Time / s\")\n",
    "        plt.ylabel(\"\")\n",
    "        plt.legend()"
   ]
  },
  {
   "cell_type": "code",
   "execution_count": null,
   "metadata": {},
   "outputs": [],
   "source": [
    "self.datadct = rxndct\n",
    "rxndct"
   ]
  },
  {
   "cell_type": "code",
   "execution_count": null,
   "metadata": {},
   "outputs": [],
   "source": [
    "thresh = 0.8\n",
    "ratedct = {}\n",
    "for key, data in rxndct.items():\n",
    "    x = np.array(data.index, dtype = float)\n",
    "    x1i = int(len(x)*thresh -1)\n",
    "    if x1i == 0:\n",
    "        x1i = int(len(x)*thresh)\n",
    "    if x1i == 0:\n",
    "        x1i = 1\n",
    "    x1 = float(x[x1i])\n",
    "    \n",
    "    y1 = data.iloc[x1i, :]\n",
    "    y0 = data.iloc[0, :]\n",
    "    x0 = float(x[0])\n",
    "    \n",
    "    m = (y0-y1)/(x0-x1)\n",
    "    ratedct[key] = m\n",
    "    c = y1-m*x1\n",
    "    for species in data.columns:\n",
    "        vy = m[species]*x +c[species]\n",
    "        fig, ax = plt.subplots()\n",
    "        ax.plot(x, data[species])\n",
    "        ax.plot(x, vy, linestyle = 'dotted')\n",
    "        \n",
    "        ax.plot((x0, x1), (y1[species], y1[species]), color = 'purple', linestyle = 'dashed', linewidth = 0.5)\n",
    "        ax.plot((x1, x1), (y0[species], y1[species]), color = 'purple', linestyle = 'dashed', linewidth = 0.5)"
   ]
  },
  {
   "cell_type": "code",
   "execution_count": null,
   "metadata": {},
   "outputs": [],
   "source": [
    "ratedct"
   ]
  }
 ],
 "metadata": {
  "kernelspec": {
   "display_name": "Python 3",
   "language": "python",
   "name": "python3"
  },
  "language_info": {
   "codemirror_mode": {
    "name": "ipython",
    "version": 3
   },
   "file_extension": ".py",
   "mimetype": "text/x-python",
   "name": "python",
   "nbconvert_exporter": "python",
   "pygments_lexer": "ipython3",
   "version": "3.8.5"
  }
 },
 "nbformat": 4,
 "nbformat_minor": 4
}
