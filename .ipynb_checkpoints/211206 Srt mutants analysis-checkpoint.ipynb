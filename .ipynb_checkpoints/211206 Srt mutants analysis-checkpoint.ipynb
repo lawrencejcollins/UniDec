{
 "cells": [
  {
   "cell_type": "code",
   "execution_count": 1,
   "metadata": {},
   "outputs": [],
   "source": [
    "from unidec_modules.v3_SeqChrom import *"
   ]
  },
  {
   "cell_type": "code",
   "execution_count": 2,
   "metadata": {},
   "outputs": [
    {
     "name": "stdout",
     "output_type": "stream",
     "text": [
      "\n",
      "UniDec Engine v.4.4.0\n",
      "\n",
      "UniDec Path: C:\\Users\\cm19ljc\\Documents\\GitHub\\UniDec\\unidec_bin\\UniDec.exe\n",
      "\n",
      "UniDec Engine v.4.4.0\n",
      "\n",
      "UniDec Path: C:\\Users\\cm19ljc\\Documents\\GitHub\\UniDec\\unidec_bin\\UniDec.exe\n"
     ]
    }
   ],
   "source": [
    "eng = SeqChrom()"
   ]
  },
  {
   "cell_type": "markdown",
   "metadata": {},
   "source": [
    "Added in option to load multipe mzml files into engine before metaunidec processing."
   ]
  },
  {
   "cell_type": "code",
   "execution_count": 3,
   "metadata": {},
   "outputs": [],
   "source": [
    "directory = \"D:\\\\211203 mass spec\\\\Srt mutants 4 hrs\"\n",
    "\n",
    "plate_map = map_path = \"C:\\\\Users\\\\cm19ljc\\\\Documents\\\\GitHub\\\\UniDec\\\\reaction maps\\\\211214 Srt mutant CTB labelling 2 hours.xlsx\""
   ]
  },
  {
   "cell_type": "code",
   "execution_count": 4,
   "metadata": {},
   "outputs": [
    {
     "name": "stdout",
     "output_type": "stream",
     "text": [
      "Error: No HDF5 file present. Please create an HDF5 file first\n",
      "\n",
      "UniDec Engine v.4.4.0\n",
      "\n",
      "UniDec Path: C:\\Users\\cm19ljc\\Documents\\GitHub\\UniDec\\unidec_bin\\UniDec.exe\n",
      "\n",
      "UniDec Engine v.4.4.0\n",
      "\n",
      "UniDec Path: C:\\Users\\cm19ljc\\Documents\\GitHub\\UniDec\\unidec_bin\\UniDec.exe\n",
      "<unidec_modules.v3_SeqChrom.SeqChrom object at 0x000002446B69A370>\n",
      "Opening HDF5 File: D:\\211203 mass spec\\Srt mutants 4 hrs\\211203 1-3M 4hrs_338483_RB1_01_80970.d.hdf5\n",
      "Reading mzML: D:\\211203 mass spec\\Srt mutants 4 hrs\\211203 1-3M 4hrs_338483_RB1_01_80970.d.mzML\n",
      "[Warning] Not index found and build_index_from_scratch is False\n",
      "Converted to gzip file to improve speed: D:\\211203 mass spec\\Srt mutants 4 hrs\\211203 1-3M 4hrs_338483_RB1_01_80970.d.mzML.gz\n",
      "Error getting TIC in mzML; trying to make it...\n",
      "Imported Data. Constructing TIC\n",
      "Done\n",
      "717 2\n",
      "Noise Level: 0.06619777841532581 Window: 0.2\n",
      "Bad Peak [0.770683   0.12327923] 0.041516999999999915 [0.758233, 0.79975]\n",
      "2.31132 0.5146800000000002\n",
      "Bad Peak [2.86748    0.43689561] 0.85507 [2.09128, 2.94635]\n",
      "3.58147 0.1286299999999998\n",
      "Getting scans: [300, 419]\n",
      "Length merge axis: 44770\n",
      "0\n",
      "1\n",
      "\n",
      "UniDec Engine v.4.4.0\n",
      "\n",
      "UniDec Path: C:\\Users\\cm19ljc\\Documents\\GitHub\\UniDec\\unidec_bin\\UniDec.exe\n",
      "\n",
      "UniDec Engine v.4.4.0\n",
      "\n",
      "UniDec Path: C:\\Users\\cm19ljc\\Documents\\GitHub\\UniDec\\unidec_bin\\UniDec.exe\n",
      "<unidec_modules.v3_SeqChrom.SeqChrom object at 0x000002446B6E3460>\n",
      "Opening HDF5 File: D:\\211203 mass spec\\Srt mutants 4 hrs\\211203 1M 4hrs_338480_RA6_01_80967.d.hdf5\n",
      "Reading mzML: D:\\211203 mass spec\\Srt mutants 4 hrs\\211203 1M 4hrs_338480_RA6_01_80967.d.mzML\n",
      "[Warning] Not index found and build_index_from_scratch is False\n",
      "Converted to gzip file to improve speed: D:\\211203 mass spec\\Srt mutants 4 hrs\\211203 1M 4hrs_338480_RA6_01_80967.d.mzML.gz\n",
      "Error getting TIC in mzML; trying to make it...\n",
      "Imported Data. Constructing TIC\n",
      "Done\n",
      "718 2\n",
      "Noise Level: 0.053733871092682906 Window: 0.2\n",
      "0.991183 0.12045000000000006\n",
      "2.39067 0.3819499999999998\n",
      "2.88057 0.75562\n",
      "3.59912 0.12875000000000014\n",
      "Getting scans: [300, 420]\n",
      "Length merge axis: 43770\n",
      "1\n",
      "2\n",
      "\n",
      "UniDec Engine v.4.4.0\n",
      "\n",
      "UniDec Path: C:\\Users\\cm19ljc\\Documents\\GitHub\\UniDec\\unidec_bin\\UniDec.exe\n",
      "\n",
      "UniDec Engine v.4.4.0\n",
      "\n",
      "UniDec Path: C:\\Users\\cm19ljc\\Documents\\GitHub\\UniDec\\unidec_bin\\UniDec.exe\n",
      "<unidec_modules.v3_SeqChrom.SeqChrom object at 0x000002446B9849A0>\n",
      "Opening HDF5 File: D:\\211203 mass spec\\Srt mutants 4 hrs\\211203 2M 4hrs_338481_RA7_01_80968.d.hdf5\n",
      "Reading mzML: D:\\211203 mass spec\\Srt mutants 4 hrs\\211203 2M 4hrs_338481_RA7_01_80968.d.mzML\n",
      "[Warning] Not index found and build_index_from_scratch is False\n",
      "Converted to gzip file to improve speed: D:\\211203 mass spec\\Srt mutants 4 hrs\\211203 2M 4hrs_338481_RA7_01_80968.d.mzML.gz\n",
      "Error getting TIC in mzML; trying to make it...\n",
      "Imported Data. Constructing TIC\n",
      "Done\n",
      "715 2\n",
      "Noise Level: 0.05720881804745928 Window: 0.2\n",
      "Bad Peak [0.758083   0.11997611] 0.0332340000000001 [0.758083, 0.791317]\n",
      "2.28645 0.42757999999999985\n",
      "2.85103 0.12869999999999981\n",
      "3.59452 0.1162700000000001\n",
      "Getting scans: [300, 419]\n",
      "Length merge axis: 43322\n",
      "2\n",
      "3\n",
      "\n",
      "UniDec Engine v.4.4.0\n",
      "\n",
      "UniDec Path: C:\\Users\\cm19ljc\\Documents\\GitHub\\UniDec\\unidec_bin\\UniDec.exe\n",
      "\n",
      "UniDec Engine v.4.4.0\n",
      "\n",
      "UniDec Path: C:\\Users\\cm19ljc\\Documents\\GitHub\\UniDec\\unidec_bin\\UniDec.exe\n",
      "<unidec_modules.v3_SeqChrom.SeqChrom object at 0x00000244738BE100>\n",
      "Opening HDF5 File: D:\\211203 mass spec\\Srt mutants 4 hrs\\211203 3M 4hrs_338482_RA8_01_80969.d.hdf5\n",
      "Reading mzML: D:\\211203 mass spec\\Srt mutants 4 hrs\\211203 3M 4hrs_338482_RA8_01_80969.d.mzML\n",
      "[Warning] Not index found and build_index_from_scratch is False\n",
      "Converted to gzip file to improve speed: D:\\211203 mass spec\\Srt mutants 4 hrs\\211203 3M 4hrs_338482_RA8_01_80969.d.mzML.gz\n",
      "Error getting TIC in mzML; trying to make it...\n",
      "Imported Data. Constructing TIC\n",
      "Done\n",
      "720 2\n",
      "Noise Level: 0.08097120575120358 Window: 0.2\n",
      "Bad Peak [0.75765   0.0965085] 0.03318299999999996 [0.75765, 0.790833]\n",
      "2.29777 0.54785\n",
      "Bad Peak [2.86225    0.49647727] 0.8757800000000002 [2.06947, 2.94525]\n",
      "3.60972 0.12455000000000016\n",
      "Getting scans: [300, 419]\n",
      "Length merge axis: 45402\n",
      "3\n",
      "4\n",
      "\n",
      "UniDec Engine v.4.4.0\n",
      "\n",
      "UniDec Path: C:\\Users\\cm19ljc\\Documents\\GitHub\\UniDec\\unidec_bin\\UniDec.exe\n",
      "\n",
      "UniDec Engine v.4.4.0\n",
      "\n",
      "UniDec Path: C:\\Users\\cm19ljc\\Documents\\GitHub\\UniDec\\unidec_bin\\UniDec.exe\n",
      "<unidec_modules.v3_SeqChrom.SeqChrom object at 0x00000244738BE7F0>\n",
      "Opening HDF5 File: D:\\211203 mass spec\\Srt mutants 4 hrs\\211203 7M 4hrs_338484_RB2_01_80971.d.hdf5\n",
      "Reading mzML: D:\\211203 mass spec\\Srt mutants 4 hrs\\211203 7M 4hrs_338484_RB2_01_80971.d.mzML\n",
      "[Warning] Not index found and build_index_from_scratch is False\n",
      "Converted to gzip file to improve speed: D:\\211203 mass spec\\Srt mutants 4 hrs\\211203 7M 4hrs_338484_RB2_01_80971.d.mzML.gz\n",
      "Error getting TIC in mzML; trying to make it...\n",
      "Imported Data. Constructing TIC\n",
      "Done\n",
      "721 2\n",
      "Noise Level: 0.08392944157071693 Window: 0.2\n",
      "Bad Peak [0.75475   0.1258753] 0.03320000000000001 [0.75475, 0.78795]\n",
      "2.31928 0.5393399999999997\n",
      "3.59333 0.12447000000000008\n",
      "Getting scans: [301, 420]\n",
      "Length merge axis: 44290\n",
      "4\n",
      "5\n",
      "5\n"
     ]
    }
   ],
   "source": [
    "eng.load_multi_single(directory, t0 = 2.0, t1 = 2.5)"
   ]
  },
  {
   "cell_type": "code",
   "execution_count": 5,
   "metadata": {},
   "outputs": [],
   "source": [
    "# TIC/time point invalidation \n",
    "# add option to delete index in TIC data \n",
    "# add option to invalidate specific time/species \n",
    "# add option to plot bar chart instead of scatter/line - especially useful for comparison of diff species"
   ]
  },
  {
   "cell_type": "markdown",
   "metadata": {},
   "source": [
    "n.b. lowering the peakthresh may result in noise being recognised as a peak and thereby generating false data.\n",
    ">start high e.g. 0.1 and lower as appropriate "
   ]
  },
  {
   "cell_type": "code",
   "execution_count": 22,
   "metadata": {},
   "outputs": [
    {
     "name": "stdout",
     "output_type": "stream",
     "text": [
      "Execution Time: 0.03904560000000856\n",
      "Execution Time: 15.94422259999999\n",
      "Execution Time: 6.832240999999954\n",
      "Peak info saved to: UniDec_Figures_and_Files\\.hdf5_extracts.txt\n"
     ]
    }
   ],
   "source": [
    "eng.update_config(masslb = 10000, massub = 30000, peakthresh = 0.01, datanorm = 0, \n",
    "                 beta = 0, peaknorm = 1, exnorm = 1, numit=50, numz=50,\n",
    "                 endz=50, startz=1,zzsig=1.0, psig=1.0,mzsig=1.0,psfun=0,msig=0.0,molig=0.0,\n",
    "                 massbins=1.0,mtabsig=0.0, subbuff=0.0, subtype=2, mzbins=0.0, \n",
    "                 peakwindow=10.0, smooth = 0)\n",
    "eng.process_data()\n",
    "eng.run_unidec()\n",
    "eng.pick_peaks()\n",
    "eng.integrate_all()"
   ]
  },
  {
   "cell_type": "code",
   "execution_count": 7,
   "metadata": {
    "scrolled": true
   },
   "outputs": [],
   "source": [
    "# eng.plot_all(dtype = 'data2', combine = False, cmap = 'viridis')"
   ]
  },
  {
   "cell_type": "code",
   "execution_count": 23,
   "metadata": {},
   "outputs": [
    {
     "data": {
      "image/png": "[encoded data removed]",
      "text/plain": [
       "<Figure size 432x288 with 1 Axes>"
      ]
     },
     "metadata": {
      "needs_background": "light"
     },
     "output_type": "display_data"
    },
    {
     "data": {
      "image/png": "[encoded data removed]",
      "text/plain": [
       "<Figure size 432x288 with 1 Axes>"
      ]
     },
     "metadata": {
      "needs_background": "light"
     },
     "output_type": "display_data"
    },
    {
     "data": {
      "image/png": "[encoded data removed]",
      "text/plain": [
       "<Figure size 432x288 with 1 Axes>"
      ]
     },
     "metadata": {
      "needs_background": "light"
     },
     "output_type": "display_data"
    },
    {
     "data": {
      "image/png": "[encoded data removed]",
      "text/plain": [
       "<Figure size 432x288 with 1 Axes>"
      ]
     },
     "metadata": {
      "needs_background": "light"
     },
     "output_type": "display_data"
    },
    {
     "data": {
      "image/png": "[encoded data removed]",
      "text/plain": [
       "<Figure size 432x288 with 1 Axes>"
      ]
     },
     "metadata": {
      "needs_background": "light"
     },
     "output_type": "display_data"
    }
   ],
   "source": [
    "eng.plot_all(dtype = 'massdat', combine = False, cmap = 'viridis', xlim = [10000, 20000])"
   ]
  },
  {
   "cell_type": "code",
   "execution_count": 9,
   "metadata": {},
   "outputs": [
    {
     "data": {
      "text/plain": [
       "(      Reaction     Species  Concentration Units      Mass Reagent_Type  \\\n",
       " 0  Srt mutants      CTB-H6          100.0    uM  13597.42      Protein   \n",
       " 1  Srt mutants  CTB-GVSEYG            NaN    uM  13151.97      Protein   \n",
       " 2  Srt mutants      CTB-OH            NaN    uM  12559.36      Protein   \n",
       " \n",
       "   Sequence  \n",
       " 0      NaN  \n",
       " 1      NaN  \n",
       " 2      NaN  ,\n",
       "             Type     Reaction Time Sortase  \\\n",
       " Well ID                                      \n",
       " 1        Protein  Srt mutants    4      1M   \n",
       " 2        Protein  Srt mutants    4      2M   \n",
       " 3        Protein  Srt mutants    4      3M   \n",
       " 4        Protein  Srt mutants    4    1+3M   \n",
       " 5        Protein  Srt mutants    4      5M   \n",
       " \n",
       "                                             Filename  Species  Valid  \n",
       " Well ID                                                               \n",
       " 1          211203 1M 4hrs_338480_RA6_01_80967.d.mzML      NaN   True  \n",
       " 2          211203 2M 4hrs_338481_RA7_01_80968.d.mzML      NaN   True  \n",
       " 3          211203 3M 4hrs_338482_RA8_01_80969.d.mzML      NaN   True  \n",
       " 4        211203 1-3M 4hrs_338483_RB1_01_80970.d.mzML      NaN   True  \n",
       " 5          211203 7M 4hrs_338484_RB2_01_80971.d.mzML      NaN   True  )"
      ]
     },
     "execution_count": 9,
     "metadata": {},
     "output_type": "execute_result"
    }
   ],
   "source": [
    "eng.upload_map(map_path)"
   ]
  },
  {
   "cell_type": "code",
   "execution_count": 10,
   "metadata": {},
   "outputs": [
    {
     "data": {
      "text/html": [
       "<div>\n",
       "<style scoped>\n",
       "    .dataframe tbody tr th:only-of-type {\n",
       "        vertical-align: middle;\n",
       "    }\n",
       "\n",
       "    .dataframe tbody tr th {\n",
       "        vertical-align: top;\n",
       "    }\n",
       "\n",
       "    .dataframe thead th {\n",
       "        text-align: right;\n",
       "    }\n",
       "</style>\n",
       "<table border=\"1\" class=\"dataframe\">\n",
       "  <thead>\n",
       "    <tr style=\"text-align: right;\">\n",
       "      <th></th>\n",
       "      <th>Type</th>\n",
       "      <th>Reaction</th>\n",
       "      <th>Time</th>\n",
       "      <th>Sortase</th>\n",
       "      <th>Filename</th>\n",
       "      <th>Species</th>\n",
       "      <th>Valid</th>\n",
       "    </tr>\n",
       "    <tr>\n",
       "      <th>Well ID</th>\n",
       "      <th></th>\n",
       "      <th></th>\n",
       "      <th></th>\n",
       "      <th></th>\n",
       "      <th></th>\n",
       "      <th></th>\n",
       "      <th></th>\n",
       "    </tr>\n",
       "  </thead>\n",
       "  <tbody>\n",
       "    <tr>\n",
       "      <th>1</th>\n",
       "      <td>Protein</td>\n",
       "      <td>Srt mutants</td>\n",
       "      <td>4</td>\n",
       "      <td>1M</td>\n",
       "      <td>211203 1M 4hrs_338480_RA6_01_80967.d.mzML</td>\n",
       "      <td>NaN</td>\n",
       "      <td>True</td>\n",
       "    </tr>\n",
       "    <tr>\n",
       "      <th>2</th>\n",
       "      <td>Protein</td>\n",
       "      <td>Srt mutants</td>\n",
       "      <td>4</td>\n",
       "      <td>2M</td>\n",
       "      <td>211203 2M 4hrs_338481_RA7_01_80968.d.mzML</td>\n",
       "      <td>NaN</td>\n",
       "      <td>True</td>\n",
       "    </tr>\n",
       "    <tr>\n",
       "      <th>3</th>\n",
       "      <td>Protein</td>\n",
       "      <td>Srt mutants</td>\n",
       "      <td>4</td>\n",
       "      <td>3M</td>\n",
       "      <td>211203 3M 4hrs_338482_RA8_01_80969.d.mzML</td>\n",
       "      <td>NaN</td>\n",
       "      <td>True</td>\n",
       "    </tr>\n",
       "    <tr>\n",
       "      <th>4</th>\n",
       "      <td>Protein</td>\n",
       "      <td>Srt mutants</td>\n",
       "      <td>4</td>\n",
       "      <td>1+3M</td>\n",
       "      <td>211203 1-3M 4hrs_338483_RB1_01_80970.d.mzML</td>\n",
       "      <td>NaN</td>\n",
       "      <td>True</td>\n",
       "    </tr>\n",
       "    <tr>\n",
       "      <th>5</th>\n",
       "      <td>Protein</td>\n",
       "      <td>Srt mutants</td>\n",
       "      <td>4</td>\n",
       "      <td>5M</td>\n",
       "      <td>211203 7M 4hrs_338484_RB2_01_80971.d.mzML</td>\n",
       "      <td>NaN</td>\n",
       "      <td>True</td>\n",
       "    </tr>\n",
       "  </tbody>\n",
       "</table>\n",
       "</div>"
      ],
      "text/plain": [
       "            Type     Reaction Time Sortase  \\\n",
       "Well ID                                      \n",
       "1        Protein  Srt mutants    4      1M   \n",
       "2        Protein  Srt mutants    4      2M   \n",
       "3        Protein  Srt mutants    4      3M   \n",
       "4        Protein  Srt mutants    4    1+3M   \n",
       "5        Protein  Srt mutants    4      5M   \n",
       "\n",
       "                                            Filename  Species  Valid  \n",
       "Well ID                                                               \n",
       "1          211203 1M 4hrs_338480_RA6_01_80967.d.mzML      NaN   True  \n",
       "2          211203 2M 4hrs_338481_RA7_01_80968.d.mzML      NaN   True  \n",
       "3          211203 3M 4hrs_338482_RA8_01_80969.d.mzML      NaN   True  \n",
       "4        211203 1-3M 4hrs_338483_RB1_01_80970.d.mzML      NaN   True  \n",
       "5          211203 7M 4hrs_338484_RB2_01_80971.d.mzML      NaN   True  "
      ]
     },
     "execution_count": 10,
     "metadata": {},
     "output_type": "execute_result"
    }
   ],
   "source": [
    "eng.pmap"
   ]
  },
  {
   "cell_type": "code",
   "execution_count": 11,
   "metadata": {},
   "outputs": [
    {
     "data": {
      "text/html": [
       "<div>\n",
       "<style scoped>\n",
       "    .dataframe tbody tr th:only-of-type {\n",
       "        vertical-align: middle;\n",
       "    }\n",
       "\n",
       "    .dataframe tbody tr th {\n",
       "        vertical-align: top;\n",
       "    }\n",
       "\n",
       "    .dataframe thead th {\n",
       "        text-align: right;\n",
       "    }\n",
       "</style>\n",
       "<table border=\"1\" class=\"dataframe\">\n",
       "  <thead>\n",
       "    <tr style=\"text-align: right;\">\n",
       "      <th></th>\n",
       "      <th>Reaction</th>\n",
       "      <th>Species</th>\n",
       "      <th>Concentration</th>\n",
       "      <th>Units</th>\n",
       "      <th>Mass</th>\n",
       "      <th>Reagent_Type</th>\n",
       "      <th>Sequence</th>\n",
       "    </tr>\n",
       "  </thead>\n",
       "  <tbody>\n",
       "    <tr>\n",
       "      <th>0</th>\n",
       "      <td>Srt mutants</td>\n",
       "      <td>CTB-H6</td>\n",
       "      <td>100.0</td>\n",
       "      <td>uM</td>\n",
       "      <td>13597.42</td>\n",
       "      <td>Protein</td>\n",
       "      <td>NaN</td>\n",
       "    </tr>\n",
       "    <tr>\n",
       "      <th>1</th>\n",
       "      <td>Srt mutants</td>\n",
       "      <td>CTB-GVSEYG</td>\n",
       "      <td>NaN</td>\n",
       "      <td>uM</td>\n",
       "      <td>13151.97</td>\n",
       "      <td>Protein</td>\n",
       "      <td>NaN</td>\n",
       "    </tr>\n",
       "    <tr>\n",
       "      <th>2</th>\n",
       "      <td>Srt mutants</td>\n",
       "      <td>CTB-OH</td>\n",
       "      <td>NaN</td>\n",
       "      <td>uM</td>\n",
       "      <td>12559.36</td>\n",
       "      <td>Protein</td>\n",
       "      <td>NaN</td>\n",
       "    </tr>\n",
       "  </tbody>\n",
       "</table>\n",
       "</div>"
      ],
      "text/plain": [
       "      Reaction     Species  Concentration Units      Mass Reagent_Type  \\\n",
       "0  Srt mutants      CTB-H6          100.0    uM  13597.42      Protein   \n",
       "1  Srt mutants  CTB-GVSEYG            NaN    uM  13151.97      Protein   \n",
       "2  Srt mutants      CTB-OH            NaN    uM  12559.36      Protein   \n",
       "\n",
       "  Sequence  \n",
       "0      NaN  \n",
       "1      NaN  \n",
       "2      NaN  "
      ]
     },
     "execution_count": 11,
     "metadata": {},
     "output_type": "execute_result"
    }
   ],
   "source": [
    "eng.speciesmap"
   ]
  },
  {
   "cell_type": "code",
   "execution_count": 12,
   "metadata": {},
   "outputs": [],
   "source": [
    "eng.process_maps(groupby = 'Reaction', variable = 'Sortase', matchfilenames = True)"
   ]
  },
  {
   "cell_type": "code",
   "execution_count": 13,
   "metadata": {},
   "outputs": [
    {
     "data": {
      "text/html": [
       "<div>\n",
       "<style scoped>\n",
       "    .dataframe tbody tr th:only-of-type {\n",
       "        vertical-align: middle;\n",
       "    }\n",
       "\n",
       "    .dataframe tbody tr th {\n",
       "        vertical-align: top;\n",
       "    }\n",
       "\n",
       "    .dataframe thead th {\n",
       "        text-align: right;\n",
       "    }\n",
       "</style>\n",
       "<table border=\"1\" class=\"dataframe\">\n",
       "  <thead>\n",
       "    <tr style=\"text-align: right;\">\n",
       "      <th></th>\n",
       "      <th>Type</th>\n",
       "      <th>Reaction</th>\n",
       "      <th>Time</th>\n",
       "      <th>Sortase</th>\n",
       "      <th>Filename</th>\n",
       "      <th>Species</th>\n",
       "      <th>Valid</th>\n",
       "      <th>CTB-GVSEYG</th>\n",
       "      <th>CTB-H6</th>\n",
       "      <th>CTB-OH</th>\n",
       "      <th>Spectra</th>\n",
       "    </tr>\n",
       "    <tr>\n",
       "      <th>Well ID</th>\n",
       "      <th></th>\n",
       "      <th></th>\n",
       "      <th></th>\n",
       "      <th></th>\n",
       "      <th></th>\n",
       "      <th></th>\n",
       "      <th></th>\n",
       "      <th></th>\n",
       "      <th></th>\n",
       "      <th></th>\n",
       "      <th></th>\n",
       "    </tr>\n",
       "  </thead>\n",
       "  <tbody>\n",
       "    <tr>\n",
       "      <th>1</th>\n",
       "      <td>Protein</td>\n",
       "      <td>Srt mutants</td>\n",
       "      <td>4</td>\n",
       "      <td>1M</td>\n",
       "      <td>211203 1M 4hrs_338480_RA6_01_80967.d.mzML</td>\n",
       "      <td>[CTB-GVSEYG, CTB-H6, CTB-OH]</td>\n",
       "      <td>True</td>\n",
       "      <td>&lt;CTB-GVSEYG(Reaction = Srt mutants, Species = ...</td>\n",
       "      <td>&lt;CTB-H6(Reaction = Srt mutants, Species = CTB-...</td>\n",
       "      <td>&lt;CTB-OH(Reaction = Srt mutants, Species = CTB-...</td>\n",
       "      <td>&lt;metaunidec.mudstruct.Spectrum object at 0x000...</td>\n",
       "    </tr>\n",
       "    <tr>\n",
       "      <th>2</th>\n",
       "      <td>Protein</td>\n",
       "      <td>Srt mutants</td>\n",
       "      <td>4</td>\n",
       "      <td>2M</td>\n",
       "      <td>211203 2M 4hrs_338481_RA7_01_80968.d.mzML</td>\n",
       "      <td>[CTB-GVSEYG, CTB-H6, CTB-OH]</td>\n",
       "      <td>True</td>\n",
       "      <td>&lt;CTB-GVSEYG(Reaction = Srt mutants, Species = ...</td>\n",
       "      <td>&lt;CTB-H6(Reaction = Srt mutants, Species = CTB-...</td>\n",
       "      <td>&lt;CTB-OH(Reaction = Srt mutants, Species = CTB-...</td>\n",
       "      <td>&lt;metaunidec.mudstruct.Spectrum object at 0x000...</td>\n",
       "    </tr>\n",
       "    <tr>\n",
       "      <th>3</th>\n",
       "      <td>Protein</td>\n",
       "      <td>Srt mutants</td>\n",
       "      <td>4</td>\n",
       "      <td>3M</td>\n",
       "      <td>211203 3M 4hrs_338482_RA8_01_80969.d.mzML</td>\n",
       "      <td>[CTB-GVSEYG, CTB-H6, CTB-OH]</td>\n",
       "      <td>True</td>\n",
       "      <td>&lt;CTB-GVSEYG(Reaction = Srt mutants, Species = ...</td>\n",
       "      <td>&lt;CTB-H6(Reaction = Srt mutants, Species = CTB-...</td>\n",
       "      <td>&lt;CTB-OH(Reaction = Srt mutants, Species = CTB-...</td>\n",
       "      <td>&lt;metaunidec.mudstruct.Spectrum object at 0x000...</td>\n",
       "    </tr>\n",
       "    <tr>\n",
       "      <th>4</th>\n",
       "      <td>Protein</td>\n",
       "      <td>Srt mutants</td>\n",
       "      <td>4</td>\n",
       "      <td>1+3M</td>\n",
       "      <td>211203 1-3M 4hrs_338483_RB1_01_80970.d.mzML</td>\n",
       "      <td>[CTB-GVSEYG, CTB-H6, CTB-OH]</td>\n",
       "      <td>True</td>\n",
       "      <td>&lt;CTB-GVSEYG(Reaction = Srt mutants, Species = ...</td>\n",
       "      <td>&lt;CTB-H6(Reaction = Srt mutants, Species = CTB-...</td>\n",
       "      <td>&lt;CTB-OH(Reaction = Srt mutants, Species = CTB-...</td>\n",
       "      <td>&lt;metaunidec.mudstruct.Spectrum object at 0x000...</td>\n",
       "    </tr>\n",
       "    <tr>\n",
       "      <th>5</th>\n",
       "      <td>Protein</td>\n",
       "      <td>Srt mutants</td>\n",
       "      <td>4</td>\n",
       "      <td>5M</td>\n",
       "      <td>211203 7M 4hrs_338484_RB2_01_80971.d.mzML</td>\n",
       "      <td>[CTB-GVSEYG, CTB-H6, CTB-OH]</td>\n",
       "      <td>True</td>\n",
       "      <td>&lt;CTB-GVSEYG(Reaction = Srt mutants, Species = ...</td>\n",
       "      <td>&lt;CTB-H6(Reaction = Srt mutants, Species = CTB-...</td>\n",
       "      <td>&lt;CTB-OH(Reaction = Srt mutants, Species = CTB-...</td>\n",
       "      <td>&lt;metaunidec.mudstruct.Spectrum object at 0x000...</td>\n",
       "    </tr>\n",
       "  </tbody>\n",
       "</table>\n",
       "</div>"
      ],
      "text/plain": [
       "            Type     Reaction Time Sortase  \\\n",
       "Well ID                                      \n",
       "1        Protein  Srt mutants    4      1M   \n",
       "2        Protein  Srt mutants    4      2M   \n",
       "3        Protein  Srt mutants    4      3M   \n",
       "4        Protein  Srt mutants    4    1+3M   \n",
       "5        Protein  Srt mutants    4      5M   \n",
       "\n",
       "                                            Filename  \\\n",
       "Well ID                                                \n",
       "1          211203 1M 4hrs_338480_RA6_01_80967.d.mzML   \n",
       "2          211203 2M 4hrs_338481_RA7_01_80968.d.mzML   \n",
       "3          211203 3M 4hrs_338482_RA8_01_80969.d.mzML   \n",
       "4        211203 1-3M 4hrs_338483_RB1_01_80970.d.mzML   \n",
       "5          211203 7M 4hrs_338484_RB2_01_80971.d.mzML   \n",
       "\n",
       "                              Species  Valid  \\\n",
       "Well ID                                        \n",
       "1        [CTB-GVSEYG, CTB-H6, CTB-OH]   True   \n",
       "2        [CTB-GVSEYG, CTB-H6, CTB-OH]   True   \n",
       "3        [CTB-GVSEYG, CTB-H6, CTB-OH]   True   \n",
       "4        [CTB-GVSEYG, CTB-H6, CTB-OH]   True   \n",
       "5        [CTB-GVSEYG, CTB-H6, CTB-OH]   True   \n",
       "\n",
       "                                                CTB-GVSEYG  \\\n",
       "Well ID                                                      \n",
       "1        <CTB-GVSEYG(Reaction = Srt mutants, Species = ...   \n",
       "2        <CTB-GVSEYG(Reaction = Srt mutants, Species = ...   \n",
       "3        <CTB-GVSEYG(Reaction = Srt mutants, Species = ...   \n",
       "4        <CTB-GVSEYG(Reaction = Srt mutants, Species = ...   \n",
       "5        <CTB-GVSEYG(Reaction = Srt mutants, Species = ...   \n",
       "\n",
       "                                                    CTB-H6  \\\n",
       "Well ID                                                      \n",
       "1        <CTB-H6(Reaction = Srt mutants, Species = CTB-...   \n",
       "2        <CTB-H6(Reaction = Srt mutants, Species = CTB-...   \n",
       "3        <CTB-H6(Reaction = Srt mutants, Species = CTB-...   \n",
       "4        <CTB-H6(Reaction = Srt mutants, Species = CTB-...   \n",
       "5        <CTB-H6(Reaction = Srt mutants, Species = CTB-...   \n",
       "\n",
       "                                                    CTB-OH  \\\n",
       "Well ID                                                      \n",
       "1        <CTB-OH(Reaction = Srt mutants, Species = CTB-...   \n",
       "2        <CTB-OH(Reaction = Srt mutants, Species = CTB-...   \n",
       "3        <CTB-OH(Reaction = Srt mutants, Species = CTB-...   \n",
       "4        <CTB-OH(Reaction = Srt mutants, Species = CTB-...   \n",
       "5        <CTB-OH(Reaction = Srt mutants, Species = CTB-...   \n",
       "\n",
       "                                                   Spectra  \n",
       "Well ID                                                     \n",
       "1        <metaunidec.mudstruct.Spectrum object at 0x000...  \n",
       "2        <metaunidec.mudstruct.Spectrum object at 0x000...  \n",
       "3        <metaunidec.mudstruct.Spectrum object at 0x000...  \n",
       "4        <metaunidec.mudstruct.Spectrum object at 0x000...  \n",
       "5        <metaunidec.mudstruct.Spectrum object at 0x000...  "
      ]
     },
     "execution_count": 13,
     "metadata": {},
     "output_type": "execute_result"
    }
   ],
   "source": [
    "eng.pmap2"
   ]
  },
  {
   "cell_type": "markdown",
   "metadata": {},
   "source": [
    "invalidate data using eng.invalidate()"
   ]
  },
  {
   "cell_type": "code",
   "execution_count": 19,
   "metadata": {},
   "outputs": [
    {
     "data": {
      "image/png": "[encoded data removed]",
      "text/plain": [
       "<Figure size 432x288 with 1 Axes>"
      ]
     },
     "metadata": {
      "needs_background": "light"
     },
     "output_type": "display_data"
    }
   ],
   "source": [
    "eng.peak_match(silent = True)\n",
    "eng.normalise_peaks(silent = True)\n",
    "\n",
    "eng.plot_data(plot_type='bar', groupby='Sortase')"
   ]
  }
 ],
 "metadata": {
  "kernelspec": {
   "display_name": "Python 3",
   "language": "python",
   "name": "python3"
  },
  "language_info": {
   "codemirror_mode": {
    "name": "ipython",
    "version": 3
   },
   "file_extension": ".py",
   "mimetype": "text/x-python",
   "name": "python",
   "nbconvert_exporter": "python",
   "pygments_lexer": "ipython3",
   "version": "3.8.5"
  }
 },
 "nbformat": 4,
 "nbformat_minor": 4
}
